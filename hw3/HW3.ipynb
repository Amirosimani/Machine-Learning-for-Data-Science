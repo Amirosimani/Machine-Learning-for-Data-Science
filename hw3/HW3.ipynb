{
 "cells": [
  {
   "cell_type": "code",
   "execution_count": 1,
   "metadata": {
    "collapsed": true
   },
   "outputs": [],
   "source": [
    "import numpy as np\n",
    "from numpy.linalg import inv\n",
    "import math\n",
    "\n",
    "import matplotlib\n",
    "import matplotlib.pyplot as plt\n",
    "%matplotlib inline"
   ]
  },
  {
   "cell_type": "code",
   "execution_count": 2,
   "metadata": {
    "collapsed": false
   },
   "outputs": [
    {
     "name": "stderr",
     "output_type": "stream",
     "text": [
      "/Users/Amiros/anaconda/lib/python3.5/site-packages/IPython/core/magics/extension.py:47: UserWarning: %install_ext` is deprecated, please distribute your extension as a python package.\n",
      "  \"as a python package.\", UserWarning)\n"
     ]
    },
    {
     "name": "stdout",
     "output_type": "stream",
     "text": [
      "Installed autotime.py. To use it, type:\n",
      "  %load_ext autotime\n"
     ]
    }
   ],
   "source": [
    "%install_ext https://raw.github.com/cpcloud/ipython-autotime/master/autotime.py\n",
    "%load_ext autotime"
   ]
  },
  {
   "cell_type": "code",
   "execution_count": 10,
   "metadata": {
    "collapsed": false
   },
   "outputs": [
    {
     "name": "stdout",
     "output_type": "stream",
     "text": [
      "time: 114 ms\n"
     ]
    }
   ],
   "source": [
    "#load train data as numpy array\n",
    "X_train = np.genfromtxt('/Users/Amiros/GitHub/Machine Learning for Data Science/hw3/data/gaussian_process/X_train.csv',delimiter=',')\n",
    "y_train = np.genfromtxt('/Users/Amiros/GitHub/Machine Learning for Data Science/hw3/data/gaussian_process/y_train.csv',delimiter=',')\n",
    "\n",
    "#load test data as numpy array\n",
    "X_test = np.genfromtxt('/Users/Amiros/GitHub/Machine Learning for Data Science/hw3/data/gaussian_process/X_test.csv',delimiter=',')\n",
    "y_test = np.genfromtxt('/Users/Amiros/GitHub/Machine Learning for Data Science/hw3/data/gaussian_process/y_test.csv',delimiter=',')"
   ]
  },
  {
   "cell_type": "code",
   "execution_count": 264,
   "metadata": {
    "collapsed": false
   },
   "outputs": [
    {
     "name": "stdout",
     "output_type": "stream",
     "text": [
      "time: 22.6 ms\n"
     ]
    }
   ],
   "source": [
    "# kernel matrix restricted points in Training data\n",
    "def K_restricted(X_train, b):\n",
    "    k = np.linalg.norm(X_train[None,:,:]-X_train[:,None,:],axis=2)\n",
    "    return np.exp(-1/b * k)\n",
    "\n",
    "def G_process(X_train, y_train, X_test, b, sigma):\n",
    "    K_n = K_restricted(X_train, b)\n",
    "    \n",
    "    I = np.identity(X_train.shape[0])\n",
    "    c = np.linalg.inv((sigma **  2) * I + K_n)\n",
    "    \n",
    "    m = []\n",
    "    v = []\n",
    "    for i in range(X_test.shape[0]):\n",
    "    # Calculate mean\n",
    "        distance = np.sqrt(np.sum((X_test[i] - X_train) ** 2, axis=1))\n",
    "        G_Kernel = np.hstack(np.exp((-1/b) * distance).reshape(1,-1))\n",
    "        w = np.dot(G_Kernel, c)  #it can be used for variance calculation as well\n",
    "        a = np.dot(w, y_train)\n",
    "        m.append(a)\n",
    "    \n",
    "    # Calculate variance\n",
    "        z = np.dot(w, G_Kernel.T)\n",
    "        v = sigma ** 2 - z\n",
    "    \n",
    "    return m, v"
   ]
  },
  {
   "cell_type": "code",
   "execution_count": 265,
   "metadata": {
    "collapsed": false
   },
   "outputs": [
    {
     "name": "stdout",
     "output_type": "stream",
     "text": [
      "time: 42.1 ms\n"
     ]
    }
   ],
   "source": [
    "a, b = G_process(X_train, y_train, X_test, 2, 0.1)"
   ]
  },
  {
   "cell_type": "code",
   "execution_count": null,
   "metadata": {
    "collapsed": true
   },
   "outputs": [],
   "source": []
  }
 ],
 "metadata": {
  "kernelspec": {
   "display_name": "Python 3",
   "language": "python",
   "name": "python3"
  },
  "language_info": {
   "codemirror_mode": {
    "name": "ipython",
    "version": 3
   },
   "file_extension": ".py",
   "mimetype": "text/x-python",
   "name": "python",
   "nbconvert_exporter": "python",
   "pygments_lexer": "ipython3",
   "version": "3.5.2"
  }
 },
 "nbformat": 4,
 "nbformat_minor": 0
}
