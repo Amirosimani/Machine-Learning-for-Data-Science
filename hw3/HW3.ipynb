{
 "cells": [
  {
   "cell_type": "code",
   "execution_count": null,
   "metadata": {
    "collapsed": false
   },
   "outputs": [],
   "source": [
    "import numpy as np\n",
    "from numpy.linalg import inv\n",
    "import math\n",
    "import itertools\n",
    "import pandas as pd\n",
    "\n",
    "import matplotlib\n",
    "import matplotlib.pyplot as plt\n",
    "%matplotlib inline"
   ]
  },
  {
   "cell_type": "code",
   "execution_count": 2,
   "metadata": {
    "collapsed": false
   },
   "outputs": [],
   "source": [
    "%install_ext https://raw.github.com/cpcloud/ipython-autotime/master/autotime.py\n",
    "%load_ext autotime"
   ]
  },
  {
   "cell_type": "code",
   "execution_count": 3,
   "metadata": {
    "collapsed": false
   },
   "outputs": [
    {
     "name": "stdout",
     "output_type": "stream",
     "text": [
      "time: 22.7 ms\n"
     ]
    }
   ],
   "source": [
    "#load train data as numpy array\n",
    "X_train = np.genfromtxt('/Users/Amiros/GitHub/Machine Learning for Data Science/hw3/data/gaussian_process/X_train.csv',delimiter=',')\n",
    "y_train = np.genfromtxt('/Users/Amiros/GitHub/Machine Learning for Data Science/hw3/data/gaussian_process/y_train.csv',delimiter=',')\n",
    "\n",
    "#load test data as numpy array\n",
    "X_test = np.genfromtxt('/Users/Amiros/GitHub/Machine Learning for Data Science/hw3/data/gaussian_process/X_test.csv',delimiter=',')\n",
    "y_test = np.genfromtxt('/Users/Amiros/GitHub/Machine Learning for Data Science/hw3/data/gaussian_process/y_test.csv',delimiter=',')"
   ]
  },
  {
   "cell_type": "markdown",
   "metadata": {},
   "source": [
    "## 1-A"
   ]
  },
  {
   "cell_type": "code",
   "execution_count": 4,
   "metadata": {
    "collapsed": false
   },
   "outputs": [
    {
     "name": "stdout",
     "output_type": "stream",
     "text": [
      "time: 14.5 ms\n"
     ]
    }
   ],
   "source": [
    "# kernel matrix\n",
    "def kernel(X_1, X_2, b):\n",
    "    k = np.linalg.norm(X_1[None,:,:]-X_2[:,None,:],axis=2)\n",
    "    return np.exp(-1/b * (k**2))\n",
    "\n",
    "\n",
    "# Gaussian process\n",
    "def G_process(X_train, y_train, X_test, b, sigma):\n",
    "    K_n = kernel(X_train, X_train, b)\n",
    "    \n",
    "    I = np.identity(X_train.shape[0])\n",
    "    c = np.linalg.inv((sigma) * I + K_n)\n",
    "    \n",
    "    K_k = kernel(X_test, X_train, b).T\n",
    "    w = np.dot(K_k, c)\n",
    "    predict = np.dot(w, y_train)\n",
    "    \n",
    "    return predict"
   ]
  },
  {
   "cell_type": "markdown",
   "metadata": {},
   "source": [
    "## 1-B"
   ]
  },
  {
   "cell_type": "code",
   "execution_count": 5,
   "metadata": {
    "collapsed": false
   },
   "outputs": [
    {
     "name": "stdout",
     "output_type": "stream",
     "text": [
      "time: 1.49 s\n"
     ]
    }
   ],
   "source": [
    "b_list=[5,7,9,11,13,15]\n",
    "sigma_list=[.1,.2,.3,.4,.5,.6,.7,.8,.9,1]\n",
    "c = list(itertools.product(b_list, sigma_list))\n",
    "\n",
    "y_predict = []\n",
    "for i in range(len(c)):\n",
    "    y_predict.append(G_process(X_train, y_train, X_test, c[i][0], c[i][1]))\n",
    "y_predict = np.array(y_predict)"
   ]
  },
  {
   "cell_type": "code",
   "execution_count": 6,
   "metadata": {
    "collapsed": false
   },
   "outputs": [
    {
     "name": "stdout",
     "output_type": "stream",
     "text": [
      "time: 4.78 ms\n"
     ]
    }
   ],
   "source": [
    "def RMSE(y_predict, y_test, c):\n",
    "    rmse = []\n",
    "    \n",
    "    for i in range(len(c)):\n",
    "        a = math.sqrt(np.sum((y_predict[i] - y_test)**2) / 42)\n",
    "        rmse.append(a)  \n",
    "    return rmse"
   ]
  },
  {
   "cell_type": "code",
   "execution_count": 11,
   "metadata": {
    "collapsed": false
   },
   "outputs": [
    {
     "data": {
      "text/html": [
       "<div>\n",
       "<table border=\"1\" class=\"dataframe\">\n",
       "  <thead>\n",
       "    <tr style=\"text-align: right;\">\n",
       "      <th></th>\n",
       "      <th>parameters</th>\n",
       "      <th>rmse_value</th>\n",
       "    </tr>\n",
       "  </thead>\n",
       "  <tbody>\n",
       "    <tr>\n",
       "      <th>0</th>\n",
       "      <td>(5, 0.1)</td>\n",
       "      <td>1.966276</td>\n",
       "    </tr>\n",
       "    <tr>\n",
       "      <th>1</th>\n",
       "      <td>(5, 0.2)</td>\n",
       "      <td>1.933135</td>\n",
       "    </tr>\n",
       "    <tr>\n",
       "      <th>2</th>\n",
       "      <td>(5, 0.3)</td>\n",
       "      <td>1.923420</td>\n",
       "    </tr>\n",
       "    <tr>\n",
       "      <th>3</th>\n",
       "      <td>(5, 0.4)</td>\n",
       "      <td>1.922198</td>\n",
       "    </tr>\n",
       "    <tr>\n",
       "      <th>4</th>\n",
       "      <td>(5, 0.5)</td>\n",
       "      <td>1.924769</td>\n",
       "    </tr>\n",
       "    <tr>\n",
       "      <th>5</th>\n",
       "      <td>(5, 0.6)</td>\n",
       "      <td>1.929213</td>\n",
       "    </tr>\n",
       "    <tr>\n",
       "      <th>6</th>\n",
       "      <td>(5, 0.7)</td>\n",
       "      <td>1.934634</td>\n",
       "    </tr>\n",
       "    <tr>\n",
       "      <th>7</th>\n",
       "      <td>(5, 0.8)</td>\n",
       "      <td>1.940583</td>\n",
       "    </tr>\n",
       "    <tr>\n",
       "      <th>8</th>\n",
       "      <td>(5, 0.9)</td>\n",
       "      <td>1.946820</td>\n",
       "    </tr>\n",
       "    <tr>\n",
       "      <th>9</th>\n",
       "      <td>(5, 1)</td>\n",
       "      <td>1.953213</td>\n",
       "    </tr>\n",
       "    <tr>\n",
       "      <th>10</th>\n",
       "      <td>(7, 0.1)</td>\n",
       "      <td>1.920163</td>\n",
       "    </tr>\n",
       "    <tr>\n",
       "      <th>11</th>\n",
       "      <td>(7, 0.2)</td>\n",
       "      <td>1.904877</td>\n",
       "    </tr>\n",
       "    <tr>\n",
       "      <th>12</th>\n",
       "      <td>(7, 0.3)</td>\n",
       "      <td>1.908080</td>\n",
       "    </tr>\n",
       "    <tr>\n",
       "      <th>13</th>\n",
       "      <td>(7, 0.4)</td>\n",
       "      <td>1.915902</td>\n",
       "    </tr>\n",
       "    <tr>\n",
       "      <th>14</th>\n",
       "      <td>(7, 0.5)</td>\n",
       "      <td>1.924804</td>\n",
       "    </tr>\n",
       "    <tr>\n",
       "      <th>15</th>\n",
       "      <td>(7, 0.6)</td>\n",
       "      <td>1.933701</td>\n",
       "    </tr>\n",
       "    <tr>\n",
       "      <th>16</th>\n",
       "      <td>(7, 0.7)</td>\n",
       "      <td>1.942254</td>\n",
       "    </tr>\n",
       "    <tr>\n",
       "      <th>17</th>\n",
       "      <td>(7, 0.8)</td>\n",
       "      <td>1.950380</td>\n",
       "    </tr>\n",
       "    <tr>\n",
       "      <th>18</th>\n",
       "      <td>(7, 0.9)</td>\n",
       "      <td>1.958093</td>\n",
       "    </tr>\n",
       "    <tr>\n",
       "      <th>19</th>\n",
       "      <td>(7, 1)</td>\n",
       "      <td>1.965438</td>\n",
       "    </tr>\n",
       "    <tr>\n",
       "      <th>20</th>\n",
       "      <td>(9, 0.1)</td>\n",
       "      <td>1.897649</td>\n",
       "    </tr>\n",
       "    <tr>\n",
       "      <th>21</th>\n",
       "      <td>(9, 0.2)</td>\n",
       "      <td>1.902519</td>\n",
       "    </tr>\n",
       "    <tr>\n",
       "      <th>22</th>\n",
       "      <td>(9, 0.3)</td>\n",
       "      <td>1.917648</td>\n",
       "    </tr>\n",
       "    <tr>\n",
       "      <th>23</th>\n",
       "      <td>(9, 0.4)</td>\n",
       "      <td>1.932514</td>\n",
       "    </tr>\n",
       "    <tr>\n",
       "      <th>24</th>\n",
       "      <td>(9, 0.5)</td>\n",
       "      <td>1.945699</td>\n",
       "    </tr>\n",
       "    <tr>\n",
       "      <th>25</th>\n",
       "      <td>(9, 0.6)</td>\n",
       "      <td>1.957235</td>\n",
       "    </tr>\n",
       "    <tr>\n",
       "      <th>26</th>\n",
       "      <td>(9, 0.7)</td>\n",
       "      <td>1.967403</td>\n",
       "    </tr>\n",
       "    <tr>\n",
       "      <th>27</th>\n",
       "      <td>(9, 0.8)</td>\n",
       "      <td>1.976492</td>\n",
       "    </tr>\n",
       "    <tr>\n",
       "      <th>28</th>\n",
       "      <td>(9, 0.9)</td>\n",
       "      <td>1.984741</td>\n",
       "    </tr>\n",
       "    <tr>\n",
       "      <th>29</th>\n",
       "      <td>(9, 1)</td>\n",
       "      <td>1.992341</td>\n",
       "    </tr>\n",
       "    <tr>\n",
       "      <th>30</th>\n",
       "      <td>(11, 0.1)</td>\n",
       "      <td>1.890507</td>\n",
       "    </tr>\n",
       "    <tr>\n",
       "      <th>31</th>\n",
       "      <td>(11, 0.2)</td>\n",
       "      <td>1.914981</td>\n",
       "    </tr>\n",
       "    <tr>\n",
       "      <th>32</th>\n",
       "      <td>(11, 0.3)</td>\n",
       "      <td>1.938849</td>\n",
       "    </tr>\n",
       "    <tr>\n",
       "      <th>33</th>\n",
       "      <td>(11, 0.4)</td>\n",
       "      <td>1.957936</td>\n",
       "    </tr>\n",
       "    <tr>\n",
       "      <th>34</th>\n",
       "      <td>(11, 0.5)</td>\n",
       "      <td>1.973216</td>\n",
       "    </tr>\n",
       "    <tr>\n",
       "      <th>35</th>\n",
       "      <td>(11, 0.6)</td>\n",
       "      <td>1.985764</td>\n",
       "    </tr>\n",
       "    <tr>\n",
       "      <th>36</th>\n",
       "      <td>(11, 0.7)</td>\n",
       "      <td>1.996375</td>\n",
       "    </tr>\n",
       "    <tr>\n",
       "      <th>37</th>\n",
       "      <td>(11, 0.8)</td>\n",
       "      <td>2.005603</td>\n",
       "    </tr>\n",
       "    <tr>\n",
       "      <th>38</th>\n",
       "      <td>(11, 0.9)</td>\n",
       "      <td>2.013835</td>\n",
       "    </tr>\n",
       "    <tr>\n",
       "      <th>39</th>\n",
       "      <td>(11, 1)</td>\n",
       "      <td>2.021345</td>\n",
       "    </tr>\n",
       "    <tr>\n",
       "      <th>40</th>\n",
       "      <td>(13, 0.1)</td>\n",
       "      <td>1.895849</td>\n",
       "    </tr>\n",
       "    <tr>\n",
       "      <th>41</th>\n",
       "      <td>(13, 0.2)</td>\n",
       "      <td>1.935586</td>\n",
       "    </tr>\n",
       "    <tr>\n",
       "      <th>42</th>\n",
       "      <td>(13, 0.3)</td>\n",
       "      <td>1.964597</td>\n",
       "    </tr>\n",
       "    <tr>\n",
       "      <th>43</th>\n",
       "      <td>(13, 0.4)</td>\n",
       "      <td>1.985502</td>\n",
       "    </tr>\n",
       "    <tr>\n",
       "      <th>44</th>\n",
       "      <td>(13, 0.5)</td>\n",
       "      <td>2.001314</td>\n",
       "    </tr>\n",
       "    <tr>\n",
       "      <th>45</th>\n",
       "      <td>(13, 0.6)</td>\n",
       "      <td>2.013878</td>\n",
       "    </tr>\n",
       "    <tr>\n",
       "      <th>46</th>\n",
       "      <td>(13, 0.7)</td>\n",
       "      <td>2.024310</td>\n",
       "    </tr>\n",
       "    <tr>\n",
       "      <th>47</th>\n",
       "      <td>(13, 0.8)</td>\n",
       "      <td>2.033307</td>\n",
       "    </tr>\n",
       "    <tr>\n",
       "      <th>48</th>\n",
       "      <td>(13, 0.9)</td>\n",
       "      <td>2.041317</td>\n",
       "    </tr>\n",
       "    <tr>\n",
       "      <th>49</th>\n",
       "      <td>(13, 1)</td>\n",
       "      <td>2.048642</td>\n",
       "    </tr>\n",
       "    <tr>\n",
       "      <th>50</th>\n",
       "      <td>(15, 0.1)</td>\n",
       "      <td>1.909603</td>\n",
       "    </tr>\n",
       "    <tr>\n",
       "      <th>51</th>\n",
       "      <td>(15, 0.2)</td>\n",
       "      <td>1.959549</td>\n",
       "    </tr>\n",
       "    <tr>\n",
       "      <th>52</th>\n",
       "      <td>(15, 0.3)</td>\n",
       "      <td>1.990804</td>\n",
       "    </tr>\n",
       "    <tr>\n",
       "      <th>53</th>\n",
       "      <td>(15, 0.4)</td>\n",
       "      <td>2.011915</td>\n",
       "    </tr>\n",
       "    <tr>\n",
       "      <th>54</th>\n",
       "      <td>(15, 0.5)</td>\n",
       "      <td>2.027370</td>\n",
       "    </tr>\n",
       "    <tr>\n",
       "      <th>55</th>\n",
       "      <td>(15, 0.6)</td>\n",
       "      <td>2.039465</td>\n",
       "    </tr>\n",
       "    <tr>\n",
       "      <th>56</th>\n",
       "      <td>(15, 0.7)</td>\n",
       "      <td>2.049463</td>\n",
       "    </tr>\n",
       "    <tr>\n",
       "      <th>57</th>\n",
       "      <td>(15, 0.8)</td>\n",
       "      <td>2.058105</td>\n",
       "    </tr>\n",
       "    <tr>\n",
       "      <th>58</th>\n",
       "      <td>(15, 0.9)</td>\n",
       "      <td>2.065845</td>\n",
       "    </tr>\n",
       "    <tr>\n",
       "      <th>59</th>\n",
       "      <td>(15, 1)</td>\n",
       "      <td>2.072976</td>\n",
       "    </tr>\n",
       "  </tbody>\n",
       "</table>\n",
       "</div>"
      ],
      "text/plain": [
       "   parameters  rmse_value\n",
       "0    (5, 0.1)    1.966276\n",
       "1    (5, 0.2)    1.933135\n",
       "2    (5, 0.3)    1.923420\n",
       "3    (5, 0.4)    1.922198\n",
       "4    (5, 0.5)    1.924769\n",
       "5    (5, 0.6)    1.929213\n",
       "6    (5, 0.7)    1.934634\n",
       "7    (5, 0.8)    1.940583\n",
       "8    (5, 0.9)    1.946820\n",
       "9      (5, 1)    1.953213\n",
       "10   (7, 0.1)    1.920163\n",
       "11   (7, 0.2)    1.904877\n",
       "12   (7, 0.3)    1.908080\n",
       "13   (7, 0.4)    1.915902\n",
       "14   (7, 0.5)    1.924804\n",
       "15   (7, 0.6)    1.933701\n",
       "16   (7, 0.7)    1.942254\n",
       "17   (7, 0.8)    1.950380\n",
       "18   (7, 0.9)    1.958093\n",
       "19     (7, 1)    1.965438\n",
       "20   (9, 0.1)    1.897649\n",
       "21   (9, 0.2)    1.902519\n",
       "22   (9, 0.3)    1.917648\n",
       "23   (9, 0.4)    1.932514\n",
       "24   (9, 0.5)    1.945699\n",
       "25   (9, 0.6)    1.957235\n",
       "26   (9, 0.7)    1.967403\n",
       "27   (9, 0.8)    1.976492\n",
       "28   (9, 0.9)    1.984741\n",
       "29     (9, 1)    1.992341\n",
       "30  (11, 0.1)    1.890507\n",
       "31  (11, 0.2)    1.914981\n",
       "32  (11, 0.3)    1.938849\n",
       "33  (11, 0.4)    1.957936\n",
       "34  (11, 0.5)    1.973216\n",
       "35  (11, 0.6)    1.985764\n",
       "36  (11, 0.7)    1.996375\n",
       "37  (11, 0.8)    2.005603\n",
       "38  (11, 0.9)    2.013835\n",
       "39    (11, 1)    2.021345\n",
       "40  (13, 0.1)    1.895849\n",
       "41  (13, 0.2)    1.935586\n",
       "42  (13, 0.3)    1.964597\n",
       "43  (13, 0.4)    1.985502\n",
       "44  (13, 0.5)    2.001314\n",
       "45  (13, 0.6)    2.013878\n",
       "46  (13, 0.7)    2.024310\n",
       "47  (13, 0.8)    2.033307\n",
       "48  (13, 0.9)    2.041317\n",
       "49    (13, 1)    2.048642\n",
       "50  (15, 0.1)    1.909603\n",
       "51  (15, 0.2)    1.959549\n",
       "52  (15, 0.3)    1.990804\n",
       "53  (15, 0.4)    2.011915\n",
       "54  (15, 0.5)    2.027370\n",
       "55  (15, 0.6)    2.039465\n",
       "56  (15, 0.7)    2.049463\n",
       "57  (15, 0.8)    2.058105\n",
       "58  (15, 0.9)    2.065845\n",
       "59    (15, 1)    2.072976"
      ]
     },
     "execution_count": 11,
     "metadata": {},
     "output_type": "execute_result"
    },
    {
     "name": "stdout",
     "output_type": "stream",
     "text": [
      "time: 53.3 ms\n"
     ]
    }
   ],
   "source": [
    "rmse = RMSE(y_predict, y_test, c)\n",
    "rmse_table = pd.DataFrame(\n",
    "    {'parameters': c, 'rmse_value': rmse})\n",
    "rmse_table"
   ]
  },
  {
   "cell_type": "markdown",
   "metadata": {},
   "source": [
    "## 1-C"
   ]
  },
  {
   "cell_type": "code",
   "execution_count": 8,
   "metadata": {
    "collapsed": false
   },
   "outputs": [
    {
     "data": {
      "text/plain": [
       "parameters    (11, 0.1)\n",
       "rmse_value      1.89051\n",
       "Name: 30, dtype: object"
      ]
     },
     "execution_count": 8,
     "metadata": {},
     "output_type": "execute_result"
    },
    {
     "name": "stdout",
     "output_type": "stream",
     "text": [
      "time: 5.52 ms\n"
     ]
    }
   ],
   "source": [
    "rmse_table.ix[rmse_table['rmse_value'].idxmin()]"
   ]
  },
  {
   "cell_type": "markdown",
   "metadata": {},
   "source": [
    "The best solution is for b= 11 and sigma = 0.1 with rmse value of 1.89051.\n",
    "\n",
    "This approach comapring to homework 1 gives lower rmse, therefore we got a more accurate result using Gaussian Process. We can also have confidence intervals for predictions if we calculate covaraince.\n",
    "\n",
    "However, Gaussian Procecss is computationally more expensive comparing to ridge and polynomial regression specially with large data. therefore there is an issue of scaling. Also it doesnt have a closed form "
   ]
  },
  {
   "cell_type": "markdown",
   "metadata": {},
   "source": [
    "## 1-D"
   ]
  },
  {
   "cell_type": "code",
   "execution_count": 9,
   "metadata": {
    "collapsed": false
   },
   "outputs": [
    {
     "name": "stderr",
     "output_type": "stream",
     "text": [
      "/Users/Amiros/anaconda/lib/python3.5/site-packages/ipykernel/__main__.py:10: FutureWarning: sort(columns=....) is deprecated, use sort_values(by=.....)\n"
     ]
    },
    {
     "data": {
      "text/plain": [
       "<matplotlib.legend.Legend at 0x10cfb1518>"
      ]
     },
     "execution_count": 9,
     "metadata": {},
     "output_type": "execute_result"
    },
    {
     "data": {
      "image/png": "[encoded data removed]",
      "text/plain": [
       "<matplotlib.figure.Figure at 0x10cd35be0>"
      ]
     },
     "metadata": {},
     "output_type": "display_data"
    },
    {
     "name": "stdout",
     "output_type": "stream",
     "text": [
      "time: 416 ms\n"
     ]
    }
   ],
   "source": [
    "#selecting only the 4th feature (car weight)\n",
    "X_train_car_weight = X_train[:,3].reshape(-1,1)\n",
    "X_test_car_weight = X_test[:,3].reshape(-1,1)\n",
    "\n",
    "# predicting based on reshaped data\n",
    "y_predict_4th = G_process(X_train_car_weight, y_train, X_test_car_weight, 5, 2)\n",
    "\n",
    "# \n",
    "df_4 = pd.DataFrame({'x':X_test_car_weight[:,0], 'y':y_predict_4th.reshape(-1,1)[:,0]})\n",
    "df_4 = df_4.sort(['x'], ascending=[1])\n",
    "\n",
    "plt.figure(figsize=(12,8))\n",
    "plt.scatter(X_train_car_weight, y_train, alpha = '0.8', facecolors='#fdfd96', edgecolors='#ff6961', s = 40)\n",
    "plt.plot(df_4['x'], df_4['y'], '#966fd6', linewidth = 2.5)\n",
    "\n",
    "plt.ylabel('y values')\n",
    "plt.xlabel('X values')\n",
    "\n",
    "labels = ['Mean Y Prediction', 'Training values']\n",
    "plt.legend(labels)"
   ]
  },
  {
   "cell_type": "markdown",
   "metadata": {},
   "source": [
    "# 2"
   ]
  },
  {
   "cell_type": "code",
   "execution_count": null,
   "metadata": {
    "collapsed": false
   },
   "outputs": [],
   "source": [
    "#load train data as numpy array\n",
    "X_train0 = np.genfromtxt('/Users/Amiros/GitHub/Machine Learning for Data Science/hw3/data/boosting/X_train.csv',delimiter=',')\n",
    "y_train = np.genfromtxt('/Users/Amiros/GitHub/Machine Learning for Data Science/hw3/data/boosting/y_train.csv',delimiter=',')\n",
    "\n",
    "#load test data as numpy array\n",
    "X_test0 = np.genfromtxt('/Users/Amiros/GitHub/Machine Learning for Data Science/hw3/data/boosting/X_test.csv',delimiter=',')\n",
    "y_test = np.genfromtxt('/Users/Amiros/GitHub/Machine Learning for Data Science/hw3/data/boosting/y_test.csv',delimiter=',')"
   ]
  },
  {
   "cell_type": "code",
   "execution_count": null,
   "metadata": {
    "collapsed": false
   },
   "outputs": [],
   "source": [
    "X_train = np.hstack((X_train0, np.ones((1036,1), dtype=np.int)))\n",
    "X_test = np.hstack((X_test0, np.ones((1000,1), dtype=np.int)))"
   ]
  },
  {
   "cell_type": "code",
   "execution_count": null,
   "metadata": {
    "collapsed": false
   },
   "outputs": [],
   "source": [
    "# Least Square classification\n",
    "def LS(X_train, y_train):\n",
    "    coef = np.linalg.inv(np.dot(X_train.T, X_train)).dot(X_train.T).dot(y_train)\n",
    "    return coef\n",
    "\n",
    "\n",
    "\n",
    "# Boosting algorithm\n",
    "def AdaBoost(X_train, y_train, T):\n",
    "\n",
    "    # create an index lsit with the size of training data\n",
    "    index = np.full((X_train.shape[0]), range(0,X_train.shape[0]))\n",
    "\n",
    "    # initial value\n",
    "    w = np.full((X_train.shape[0]), 1/X_train.shape[0])    \n",
    "    B_table = []\n",
    "    epsilon_list = []\n",
    "    alpha_list = []\n",
    "    coef_array = np.empty((0, 6))\n",
    "    \n",
    "    for i in range(T):\n",
    "\n",
    "        # choose random from the index according to the w distribution\n",
    "        B_index = index[np.random.choice(index.shape[0], index.shape[0], replace=True, p= w)]\n",
    "        B_table.append(B_index.tolist())\n",
    "\n",
    "        # bootstrap samples\n",
    "        B_X = X_train[B_index]\n",
    "        B_y = y_train[B_index]\n",
    "\n",
    "        # predict\n",
    "        coef = LS(B_X, B_y)\n",
    "        y_pred = np.sign(X_train.dot(coef))\n",
    "        coef_array = np.append(coef_array, [coef], axis=0)\n",
    "\n",
    "        # updating weights \n",
    "        epsilon = np.multiply((y_train != y_pred), w).sum()\n",
    "        alpha = 0.5 * np.log((1 - epsilon)/epsilon)\n",
    "        \n",
    "        epsilon_list.append(epsilon)\n",
    "        alpha_list.append(alpha)\n",
    "\n",
    "        w_est = np.multiply(w, np.exp(-alpha * np.multiply(y_train, y_pred)))\n",
    "        w = w_est/ w_est.sum()\n",
    "    return coef_array, B_table, alpha_list, epsilon_list\n",
    "\n",
    "\n",
    "\n",
    "# function to calculate error for every T\n",
    "def error(X, y, coef, alpha, T):\n",
    "    a = np.empty((0,0))\n",
    "    final = np.empty((X.shape[0], 0))\n",
    "    error_table = []\n",
    "    \n",
    "    for i in range(T):\n",
    "        a = alpha[i] * np.sign(X.dot(coef[i]))\n",
    "        final = np.append (final, a.reshape(-1,1), axis = 1)\n",
    "\n",
    "        pred = np.sign(np.sum(final, axis =1))\n",
    "        error = (pred != y).sum()/10\n",
    "        error_table.append(error)\n",
    "\n",
    "    return error_table"
   ]
  },
  {
   "cell_type": "code",
   "execution_count": null,
   "metadata": {
    "collapsed": false
   },
   "outputs": [],
   "source": [
    "# running boosting algorithm\n",
    "coef_array, B_table, alpha_list, epsilon_list = AdaBoost(X_train, y_train, 1500)\n",
    "\n",
    "# calculating training and testing error\n",
    "test_error = error(X_test, y_test, coef_array, alpha_list, 1500)\n",
    "train_error = error(X_train, y_train, coef_array, alpha_list, 1500)"
   ]
  },
  {
   "cell_type": "markdown",
   "metadata": {},
   "source": [
    " ## 2 - A"
   ]
  },
  {
   "cell_type": "code",
   "execution_count": null,
   "metadata": {
    "collapsed": false
   },
   "outputs": [],
   "source": [
    "plt.figure(figsize=(12,8))\n",
    "\n",
    "plt.plot(test_error, '#779ECB', train_error, '#FF6961')\n",
    "plt.title('Training and Test error for boosting algorithm')\n",
    "plt.ylabel('%')\n",
    "labels = ['Test error', 'Training error']\n",
    "plt.legend(labels)"
   ]
  },
  {
   "cell_type": "markdown",
   "metadata": {},
   "source": [
    "## 2-B"
   ]
  },
  {
   "cell_type": "code",
   "execution_count": null,
   "metadata": {
    "collapsed": false
   },
   "outputs": [],
   "source": [
    "epsilon_array = np.array(epsilon_list)\n",
    "epsilon = (0.5 - epsilon_array) ** 2\n",
    "\n",
    "ss = []\n",
    "\n",
    "for i in range(1,1501):\n",
    "    s = np.sum(epsilon[0:i])\n",
    "    ss.append(s)\n",
    "ss2 = np.array(ss)\n",
    "ss2 = np.exp(-2 * ss2)"
   ]
  },
  {
   "cell_type": "code",
   "execution_count": null,
   "metadata": {
    "collapsed": false
   },
   "outputs": [],
   "source": [
    "plt.figure(figsize=(12,8))\n",
    "\n",
    "plt.plot(ss2, '#AEC6CF', linewidth = 2)\n",
    "plt.title('The upper bound on the training error')\n",
    "plt.ylabel('%')\n",
    "plt.xlabel('T')\n",
    "plt.xlim(-0.1, 1501)"
   ]
  },
  {
   "cell_type": "markdown",
   "metadata": {},
   "source": [
    "## 2-C"
   ]
  },
  {
   "cell_type": "code",
   "execution_count": null,
   "metadata": {
    "collapsed": false
   },
   "outputs": [],
   "source": [
    "flattened_B = [val for sublist in B_table for val in sublist]"
   ]
  },
  {
   "cell_type": "code",
   "execution_count": null,
   "metadata": {
    "collapsed": false
   },
   "outputs": [],
   "source": [
    "plt.figure(figsize=(12,8))\n",
    "\n",
    "plt.hist(flattened_B, bins='auto', color = '#AEC6CF')\n",
    "plt.xlim(-.05,1000.05)\n",
    "plt.title('number of times each training data point was selected by the bootstrap')"
   ]
  },
  {
   "cell_type": "markdown",
   "metadata": {},
   "source": [
    "## 2-D"
   ]
  },
  {
   "cell_type": "code",
   "execution_count": null,
   "metadata": {
    "collapsed": false
   },
   "outputs": [],
   "source": [
    "plt.figure(figsize=(12,8))\n",
    "\n",
    "plt.plot(epsilon_list, '#CFCFC4')\n",
    "plt.title('Epsilon values over T')\n",
    "plt.ylabel('Epsilon')\n",
    "plt.xlabel('T')\n",
    "plt.xlim(-0.05, 1500.05)\n",
    "plt.ylim(0, 1)"
   ]
  },
  {
   "cell_type": "code",
   "execution_count": null,
   "metadata": {
    "collapsed": false
   },
   "outputs": [],
   "source": [
    "plt.figure(figsize=(12,8))\n",
    "\n",
    "plt.plot(alpha_list, '#AEC6CF')\n",
    "plt.title('Alpha values over T')\n",
    "plt.ylabel('Alpha')\n",
    "plt.xlabel('T')\n",
    "plt.xlim(-0.05, 1500.05)\n",
    "plt.ylim(-1, 1)"
   ]
  },
  {
   "cell_type": "code",
   "execution_count": null,
   "metadata": {
    "collapsed": true
   },
   "outputs": [],
   "source": []
  }
 ],
 "metadata": {
  "kernelspec": {
   "display_name": "Python 3",
   "language": "python",
   "name": "python3"
  },
  "language_info": {
   "codemirror_mode": {
    "name": "ipython",
    "version": 3
   },
   "file_extension": ".py",
   "mimetype": "text/x-python",
   "name": "python",
   "nbconvert_exporter": "python",
   "pygments_lexer": "ipython3",
   "version": "3.5.2"
  }
 },
 "nbformat": 4,
 "nbformat_minor": 0
}
