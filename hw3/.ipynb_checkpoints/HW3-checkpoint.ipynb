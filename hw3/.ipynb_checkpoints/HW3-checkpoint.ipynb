{
 "cells": [
  {
   "cell_type": "code",
   "execution_count": 327,
   "metadata": {
    "collapsed": false
   },
   "outputs": [
    {
     "name": "stdout",
     "output_type": "stream",
     "text": [
      "time: 1.39 s\n"
     ]
    }
   ],
   "source": [
    "import numpy as np\n",
    "from numpy.linalg import inv\n",
    "import math\n",
    "import itertools\n",
    "import pandas as pd\n",
    "\n",
    "import matplotlib\n",
    "import matplotlib.pyplot as plt\n",
    "%matplotlib inline"
   ]
  },
  {
   "cell_type": "code",
   "execution_count": 2,
   "metadata": {
    "collapsed": false
   },
   "outputs": [
    {
     "name": "stderr",
     "output_type": "stream",
     "text": [
      "/Users/Amiros/anaconda/lib/python3.5/site-packages/IPython/core/magics/extension.py:47: UserWarning: %install_ext` is deprecated, please distribute your extension as a python package.\n",
      "  \"as a python package.\", UserWarning)\n"
     ]
    },
    {
     "name": "stdout",
     "output_type": "stream",
     "text": [
      "Installed autotime.py. To use it, type:\n",
      "  %load_ext autotime\n"
     ]
    }
   ],
   "source": [
    "%install_ext https://raw.github.com/cpcloud/ipython-autotime/master/autotime.py\n",
    "%load_ext autotime"
   ]
  },
  {
   "cell_type": "code",
   "execution_count": 10,
   "metadata": {
    "collapsed": false
   },
   "outputs": [
    {
     "name": "stdout",
     "output_type": "stream",
     "text": [
      "time: 114 ms\n"
     ]
    }
   ],
   "source": [
    "#load train data as numpy array\n",
    "X_train = np.genfromtxt('/Users/Amiros/GitHub/Machine Learning for Data Science/hw3/data/gaussian_process/X_train.csv',delimiter=',')\n",
    "y_train = np.genfromtxt('/Users/Amiros/GitHub/Machine Learning for Data Science/hw3/data/gaussian_process/y_train.csv',delimiter=',')\n",
    "\n",
    "#load test data as numpy array\n",
    "X_test = np.genfromtxt('/Users/Amiros/GitHub/Machine Learning for Data Science/hw3/data/gaussian_process/X_test.csv',delimiter=',')\n",
    "y_test = np.genfromtxt('/Users/Amiros/GitHub/Machine Learning for Data Science/hw3/data/gaussian_process/y_test.csv',delimiter=',')"
   ]
  },
  {
   "cell_type": "markdown",
   "metadata": {},
   "source": [
    "## 1-A"
   ]
  },
  {
   "cell_type": "code",
   "execution_count": 440,
   "metadata": {
    "collapsed": false
   },
   "outputs": [
    {
     "name": "stdout",
     "output_type": "stream",
     "text": [
      "time: 22.1 ms\n"
     ]
    }
   ],
   "source": [
    "# kernel matrix restricted points in Training data\n",
    "def K_restricted(X_train, b):\n",
    "    k = np.linalg.norm(X_train[None,:,:]-X_train[:,None,:],axis=2)\n",
    "    return np.exp(-1/b * k)\n",
    "\n",
    "def G_process(X_train, y_train, X_test, b, sigma):\n",
    "    K_n = K_restricted(X_train, b)\n",
    "    \n",
    "    I = np.identity(X_train.shape[0])\n",
    "    c = np.linalg.inv((sigma) * I + K_n)\n",
    "    \n",
    "    m = []\n",
    "    v = []\n",
    "    for i in range(X_test.shape[0]):\n",
    "    # Calculate mean\n",
    "        distance = np.sqrt(np.sum((X_test[i] - X_train) ** 2, axis=1))\n",
    "        G_Kernel = np.hstack(np.exp((-1/b) * distance).reshape(1,-1))\n",
    "        w = np.dot(G_Kernel, c)\n",
    "        a = np.dot(w, y_train)\n",
    "        m.append(a)\n",
    "\n",
    "    return m"
   ]
  },
  {
   "cell_type": "markdown",
   "metadata": {},
   "source": [
    "## 1-B"
   ]
  },
  {
   "cell_type": "code",
   "execution_count": 441,
   "metadata": {
    "collapsed": false
   },
   "outputs": [
    {
     "name": "stdout",
     "output_type": "stream",
     "text": [
      "time: 1.95 s\n"
     ]
    }
   ],
   "source": [
    "b_list=[5,7,9,11,13,15]\n",
    "sigma_list=[.1,.2,.3,.4,.5,.6,.7,.8,.9,1]\n",
    "c = list(itertools.product(b_list, sigma_list))\n",
    "\n",
    "y_predict = []\n",
    "for i in range(len(c)):\n",
    "    y_predict.append(G_process(X_train, y_train, X_test, c[i][0], c[i][1]))\n",
    "y_predict = np.array(y_predict)"
   ]
  },
  {
   "cell_type": "code",
   "execution_count": 442,
   "metadata": {
    "collapsed": false
   },
   "outputs": [
    {
     "name": "stdout",
     "output_type": "stream",
     "text": [
      "time: 4.23 ms\n"
     ]
    }
   ],
   "source": [
    "def RMSE(y_predict, y_test, c):\n",
    "    rmse = []\n",
    "    \n",
    "    for i in range(len(c)):\n",
    "        a = math.sqrt(np.sum((y_predict[i] - y_test)**2) / 42)\n",
    "        rmse.append(a)  \n",
    "    return  rmse"
   ]
  },
  {
   "cell_type": "code",
   "execution_count": 443,
   "metadata": {
    "collapsed": false
   },
   "outputs": [
    {
     "data": {
      "text/html": [
       "<div>\n",
       "<table border=\"1\" class=\"dataframe\">\n",
       "  <thead>\n",
       "    <tr style=\"text-align: right;\">\n",
       "      <th></th>\n",
       "      <th>parameters</th>\n",
       "      <th>rmse_value</th>\n",
       "    </tr>\n",
       "  </thead>\n",
       "  <tbody>\n",
       "    <tr>\n",
       "      <th>0</th>\n",
       "      <td>(5, 0.1)</td>\n",
       "      <td>1.938372</td>\n",
       "    </tr>\n",
       "    <tr>\n",
       "      <th>1</th>\n",
       "      <td>(5, 0.2)</td>\n",
       "      <td>1.933602</td>\n",
       "    </tr>\n",
       "    <tr>\n",
       "      <th>2</th>\n",
       "      <td>(5, 0.3)</td>\n",
       "      <td>1.930739</td>\n",
       "    </tr>\n",
       "    <tr>\n",
       "      <th>3</th>\n",
       "      <td>(5, 0.4)</td>\n",
       "      <td>1.930309</td>\n",
       "    </tr>\n",
       "    <tr>\n",
       "      <th>4</th>\n",
       "      <td>(5, 0.5)</td>\n",
       "      <td>1.931505</td>\n",
       "    </tr>\n",
       "    <tr>\n",
       "      <th>5</th>\n",
       "      <td>(5, 0.6)</td>\n",
       "      <td>1.933778</td>\n",
       "    </tr>\n",
       "    <tr>\n",
       "      <th>6</th>\n",
       "      <td>(5, 0.7)</td>\n",
       "      <td>1.936804</td>\n",
       "    </tr>\n",
       "    <tr>\n",
       "      <th>7</th>\n",
       "      <td>(5, 0.8)</td>\n",
       "      <td>1.940386</td>\n",
       "    </tr>\n",
       "    <tr>\n",
       "      <th>8</th>\n",
       "      <td>(5, 0.9)</td>\n",
       "      <td>1.944405</td>\n",
       "    </tr>\n",
       "    <tr>\n",
       "      <th>9</th>\n",
       "      <td>(5, 1)</td>\n",
       "      <td>1.948782</td>\n",
       "    </tr>\n",
       "    <tr>\n",
       "      <th>10</th>\n",
       "      <td>(7, 0.1)</td>\n",
       "      <td>1.940853</td>\n",
       "    </tr>\n",
       "    <tr>\n",
       "      <th>11</th>\n",
       "      <td>(7, 0.2)</td>\n",
       "      <td>1.934726</td>\n",
       "    </tr>\n",
       "    <tr>\n",
       "      <th>12</th>\n",
       "      <td>(7, 0.3)</td>\n",
       "      <td>1.933197</td>\n",
       "    </tr>\n",
       "    <tr>\n",
       "      <th>13</th>\n",
       "      <td>(7, 0.4)</td>\n",
       "      <td>1.934424</td>\n",
       "    </tr>\n",
       "    <tr>\n",
       "      <th>14</th>\n",
       "      <td>(7, 0.5)</td>\n",
       "      <td>1.937161</td>\n",
       "    </tr>\n",
       "    <tr>\n",
       "      <th>15</th>\n",
       "      <td>(7, 0.6)</td>\n",
       "      <td>1.940821</td>\n",
       "    </tr>\n",
       "    <tr>\n",
       "      <th>16</th>\n",
       "      <td>(7, 0.7)</td>\n",
       "      <td>1.945119</td>\n",
       "    </tr>\n",
       "    <tr>\n",
       "      <th>17</th>\n",
       "      <td>(7, 0.8)</td>\n",
       "      <td>1.949906</td>\n",
       "    </tr>\n",
       "    <tr>\n",
       "      <th>18</th>\n",
       "      <td>(7, 0.9)</td>\n",
       "      <td>1.955098</td>\n",
       "    </tr>\n",
       "    <tr>\n",
       "      <th>19</th>\n",
       "      <td>(7, 1)</td>\n",
       "      <td>1.960644</td>\n",
       "    </tr>\n",
       "    <tr>\n",
       "      <th>20</th>\n",
       "      <td>(9, 0.1)</td>\n",
       "      <td>1.941556</td>\n",
       "    </tr>\n",
       "    <tr>\n",
       "      <th>21</th>\n",
       "      <td>(9, 0.2)</td>\n",
       "      <td>1.935956</td>\n",
       "    </tr>\n",
       "    <tr>\n",
       "      <th>22</th>\n",
       "      <td>(9, 0.3)</td>\n",
       "      <td>1.936128</td>\n",
       "    </tr>\n",
       "    <tr>\n",
       "      <th>23</th>\n",
       "      <td>(9, 0.4)</td>\n",
       "      <td>1.938905</td>\n",
       "    </tr>\n",
       "    <tr>\n",
       "      <th>24</th>\n",
       "      <td>(9, 0.5)</td>\n",
       "      <td>1.942999</td>\n",
       "    </tr>\n",
       "    <tr>\n",
       "      <th>25</th>\n",
       "      <td>(9, 0.6)</td>\n",
       "      <td>1.947915</td>\n",
       "    </tr>\n",
       "    <tr>\n",
       "      <th>26</th>\n",
       "      <td>(9, 0.7)</td>\n",
       "      <td>1.953441</td>\n",
       "    </tr>\n",
       "    <tr>\n",
       "      <th>27</th>\n",
       "      <td>(9, 0.8)</td>\n",
       "      <td>1.959475</td>\n",
       "    </tr>\n",
       "    <tr>\n",
       "      <th>28</th>\n",
       "      <td>(9, 0.9)</td>\n",
       "      <td>1.965958</td>\n",
       "    </tr>\n",
       "    <tr>\n",
       "      <th>29</th>\n",
       "      <td>(9, 1)</td>\n",
       "      <td>1.972848</td>\n",
       "    </tr>\n",
       "    <tr>\n",
       "      <th>30</th>\n",
       "      <td>(11, 0.1)</td>\n",
       "      <td>1.941658</td>\n",
       "    </tr>\n",
       "    <tr>\n",
       "      <th>31</th>\n",
       "      <td>(11, 0.2)</td>\n",
       "      <td>1.937350</td>\n",
       "    </tr>\n",
       "    <tr>\n",
       "      <th>32</th>\n",
       "      <td>(11, 0.3)</td>\n",
       "      <td>1.939142</td>\n",
       "    </tr>\n",
       "    <tr>\n",
       "      <th>33</th>\n",
       "      <td>(11, 0.4)</td>\n",
       "      <td>1.943281</td>\n",
       "    </tr>\n",
       "    <tr>\n",
       "      <th>34</th>\n",
       "      <td>(11, 0.5)</td>\n",
       "      <td>1.948611</td>\n",
       "    </tr>\n",
       "    <tr>\n",
       "      <th>35</th>\n",
       "      <td>(11, 0.6)</td>\n",
       "      <td>1.954755</td>\n",
       "    </tr>\n",
       "    <tr>\n",
       "      <th>36</th>\n",
       "      <td>(11, 0.7)</td>\n",
       "      <td>1.961562</td>\n",
       "    </tr>\n",
       "    <tr>\n",
       "      <th>37</th>\n",
       "      <td>(11, 0.8)</td>\n",
       "      <td>1.968956</td>\n",
       "    </tr>\n",
       "    <tr>\n",
       "      <th>38</th>\n",
       "      <td>(11, 0.9)</td>\n",
       "      <td>1.976881</td>\n",
       "    </tr>\n",
       "    <tr>\n",
       "      <th>39</th>\n",
       "      <td>(11, 1)</td>\n",
       "      <td>1.985292</td>\n",
       "    </tr>\n",
       "    <tr>\n",
       "      <th>40</th>\n",
       "      <td>(13, 0.1)</td>\n",
       "      <td>1.941612</td>\n",
       "    </tr>\n",
       "    <tr>\n",
       "      <th>41</th>\n",
       "      <td>(13, 0.2)</td>\n",
       "      <td>1.938869</td>\n",
       "    </tr>\n",
       "    <tr>\n",
       "      <th>42</th>\n",
       "      <td>(13, 0.3)</td>\n",
       "      <td>1.942123</td>\n",
       "    </tr>\n",
       "    <tr>\n",
       "      <th>43</th>\n",
       "      <td>(13, 0.4)</td>\n",
       "      <td>1.947501</td>\n",
       "    </tr>\n",
       "    <tr>\n",
       "      <th>44</th>\n",
       "      <td>(13, 0.5)</td>\n",
       "      <td>1.954042</td>\n",
       "    </tr>\n",
       "    <tr>\n",
       "      <th>45</th>\n",
       "      <td>(13, 0.6)</td>\n",
       "      <td>1.961467</td>\n",
       "    </tr>\n",
       "    <tr>\n",
       "      <th>46</th>\n",
       "      <td>(13, 0.7)</td>\n",
       "      <td>1.969661</td>\n",
       "    </tr>\n",
       "    <tr>\n",
       "      <th>47</th>\n",
       "      <td>(13, 0.8)</td>\n",
       "      <td>1.978548</td>\n",
       "    </tr>\n",
       "    <tr>\n",
       "      <th>48</th>\n",
       "      <td>(13, 0.9)</td>\n",
       "      <td>1.988065</td>\n",
       "    </tr>\n",
       "    <tr>\n",
       "      <th>49</th>\n",
       "      <td>(13, 1)</td>\n",
       "      <td>1.998149</td>\n",
       "    </tr>\n",
       "    <tr>\n",
       "      <th>50</th>\n",
       "      <td>(15, 0.1)</td>\n",
       "      <td>1.941590</td>\n",
       "    </tr>\n",
       "    <tr>\n",
       "      <th>51</th>\n",
       "      <td>(15, 0.2)</td>\n",
       "      <td>1.940463</td>\n",
       "    </tr>\n",
       "    <tr>\n",
       "      <th>52</th>\n",
       "      <td>(15, 0.3)</td>\n",
       "      <td>1.945042</td>\n",
       "    </tr>\n",
       "    <tr>\n",
       "      <th>53</th>\n",
       "      <td>(15, 0.4)</td>\n",
       "      <td>1.951609</td>\n",
       "    </tr>\n",
       "    <tr>\n",
       "      <th>54</th>\n",
       "      <td>(15, 0.5)</td>\n",
       "      <td>1.959397</td>\n",
       "    </tr>\n",
       "    <tr>\n",
       "      <th>55</th>\n",
       "      <td>(15, 0.6)</td>\n",
       "      <td>1.968194</td>\n",
       "    </tr>\n",
       "    <tr>\n",
       "      <th>56</th>\n",
       "      <td>(15, 0.7)</td>\n",
       "      <td>1.977894</td>\n",
       "    </tr>\n",
       "    <tr>\n",
       "      <th>57</th>\n",
       "      <td>(15, 0.8)</td>\n",
       "      <td>1.988404</td>\n",
       "    </tr>\n",
       "    <tr>\n",
       "      <th>58</th>\n",
       "      <td>(15, 0.9)</td>\n",
       "      <td>1.999638</td>\n",
       "    </tr>\n",
       "    <tr>\n",
       "      <th>59</th>\n",
       "      <td>(15, 1)</td>\n",
       "      <td>2.011511</td>\n",
       "    </tr>\n",
       "  </tbody>\n",
       "</table>\n",
       "</div>"
      ],
      "text/plain": [
       "   parameters  rmse_value\n",
       "0    (5, 0.1)    1.938372\n",
       "1    (5, 0.2)    1.933602\n",
       "2    (5, 0.3)    1.930739\n",
       "3    (5, 0.4)    1.930309\n",
       "4    (5, 0.5)    1.931505\n",
       "5    (5, 0.6)    1.933778\n",
       "6    (5, 0.7)    1.936804\n",
       "7    (5, 0.8)    1.940386\n",
       "8    (5, 0.9)    1.944405\n",
       "9      (5, 1)    1.948782\n",
       "10   (7, 0.1)    1.940853\n",
       "11   (7, 0.2)    1.934726\n",
       "12   (7, 0.3)    1.933197\n",
       "13   (7, 0.4)    1.934424\n",
       "14   (7, 0.5)    1.937161\n",
       "15   (7, 0.6)    1.940821\n",
       "16   (7, 0.7)    1.945119\n",
       "17   (7, 0.8)    1.949906\n",
       "18   (7, 0.9)    1.955098\n",
       "19     (7, 1)    1.960644\n",
       "20   (9, 0.1)    1.941556\n",
       "21   (9, 0.2)    1.935956\n",
       "22   (9, 0.3)    1.936128\n",
       "23   (9, 0.4)    1.938905\n",
       "24   (9, 0.5)    1.942999\n",
       "25   (9, 0.6)    1.947915\n",
       "26   (9, 0.7)    1.953441\n",
       "27   (9, 0.8)    1.959475\n",
       "28   (9, 0.9)    1.965958\n",
       "29     (9, 1)    1.972848\n",
       "30  (11, 0.1)    1.941658\n",
       "31  (11, 0.2)    1.937350\n",
       "32  (11, 0.3)    1.939142\n",
       "33  (11, 0.4)    1.943281\n",
       "34  (11, 0.5)    1.948611\n",
       "35  (11, 0.6)    1.954755\n",
       "36  (11, 0.7)    1.961562\n",
       "37  (11, 0.8)    1.968956\n",
       "38  (11, 0.9)    1.976881\n",
       "39    (11, 1)    1.985292\n",
       "40  (13, 0.1)    1.941612\n",
       "41  (13, 0.2)    1.938869\n",
       "42  (13, 0.3)    1.942123\n",
       "43  (13, 0.4)    1.947501\n",
       "44  (13, 0.5)    1.954042\n",
       "45  (13, 0.6)    1.961467\n",
       "46  (13, 0.7)    1.969661\n",
       "47  (13, 0.8)    1.978548\n",
       "48  (13, 0.9)    1.988065\n",
       "49    (13, 1)    1.998149\n",
       "50  (15, 0.1)    1.941590\n",
       "51  (15, 0.2)    1.940463\n",
       "52  (15, 0.3)    1.945042\n",
       "53  (15, 0.4)    1.951609\n",
       "54  (15, 0.5)    1.959397\n",
       "55  (15, 0.6)    1.968194\n",
       "56  (15, 0.7)    1.977894\n",
       "57  (15, 0.8)    1.988404\n",
       "58  (15, 0.9)    1.999638\n",
       "59    (15, 1)    2.011511"
      ]
     },
     "execution_count": 443,
     "metadata": {},
     "output_type": "execute_result"
    },
    {
     "name": "stdout",
     "output_type": "stream",
     "text": [
      "time: 53 ms\n"
     ]
    }
   ],
   "source": [
    "rmse = RMSE(y_predict, y_test, c)\n",
    "rmse_table = pd.DataFrame(\n",
    "    {'parameters': c, 'rmse_value': rmse})\n",
    "rmse_table"
   ]
  },
  {
   "cell_type": "markdown",
   "metadata": {},
   "source": [
    "## 1-C"
   ]
  },
  {
   "cell_type": "code",
   "execution_count": 444,
   "metadata": {
    "collapsed": false
   },
   "outputs": [
    {
     "data": {
      "text/plain": [
       "parameters    (5, 0.1)\n",
       "rmse_value     1.93031\n",
       "dtype: object"
      ]
     },
     "execution_count": 444,
     "metadata": {},
     "output_type": "execute_result"
    },
    {
     "name": "stdout",
     "output_type": "stream",
     "text": [
      "time: 5.46 ms\n"
     ]
    }
   ],
   "source": [
    "rmse_table.min()"
   ]
  },
  {
   "cell_type": "markdown",
   "metadata": {},
   "source": [
    "The best solution is for b= 5 and sigma = 0.1 with rmse value of 1.93031.\n",
    "\n",
    "This approach comapring to homework 1 gives lower rmse, therefore more accurate result."
   ]
  },
  {
   "cell_type": "markdown",
   "metadata": {},
   "source": [
    "## 1-D"
   ]
  },
  {
   "cell_type": "code",
   "execution_count": 445,
   "metadata": {
    "collapsed": false
   },
   "outputs": [
    {
     "name": "stdout",
     "output_type": "stream",
     "text": [
      "time: 1.94 ms\n"
     ]
    }
   ],
   "source": [
    "# aa = X_train[:,3]\n",
    "# bb = X_test[:,3]"
   ]
  },
  {
   "cell_type": "markdown",
   "metadata": {},
   "source": [
    "# 2"
   ]
  },
  {
   "cell_type": "code",
   "execution_count": null,
   "metadata": {
    "collapsed": true
   },
   "outputs": [],
   "source": []
  }
 ],
 "metadata": {
  "kernelspec": {
   "display_name": "Python 3",
   "language": "python",
   "name": "python3"
  },
  "language_info": {
   "codemirror_mode": {
    "name": "ipython",
    "version": 3
   },
   "file_extension": ".py",
   "mimetype": "text/x-python",
   "name": "python",
   "nbconvert_exporter": "python",
   "pygments_lexer": "ipython3",
   "version": "3.5.2"
  }
 },
 "nbformat": 4,
 "nbformat_minor": 0
}
