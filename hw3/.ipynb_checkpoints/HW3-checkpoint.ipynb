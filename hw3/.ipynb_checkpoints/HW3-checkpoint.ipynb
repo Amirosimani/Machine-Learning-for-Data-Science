{
 "cells": [
  {
   "cell_type": "code",
   "execution_count": 1,
   "metadata": {
    "collapsed": false
   },
   "outputs": [],
   "source": [
    "import numpy as np\n",
    "from numpy.linalg import inv\n",
    "import math\n",
    "import itertools\n",
    "import pandas as pd\n",
    "\n",
    "import matplotlib\n",
    "import matplotlib.pyplot as plt\n",
    "%matplotlib inline"
   ]
  },
  {
   "cell_type": "code",
   "execution_count": 2,
   "metadata": {
    "collapsed": false
   },
   "outputs": [
    {
     "name": "stderr",
     "output_type": "stream",
     "text": [
      "/Users/Amiros/anaconda/lib/python3.5/site-packages/IPython/core/magics/extension.py:47: UserWarning: %install_ext` is deprecated, please distribute your extension as a python package.\n",
      "  \"as a python package.\", UserWarning)\n"
     ]
    },
    {
     "name": "stdout",
     "output_type": "stream",
     "text": [
      "Installed autotime.py. To use it, type:\n",
      "  %load_ext autotime\n"
     ]
    }
   ],
   "source": [
    "%install_ext https://raw.github.com/cpcloud/ipython-autotime/master/autotime.py\n",
    "%load_ext autotime"
   ]
  },
  {
   "cell_type": "code",
   "execution_count": null,
   "metadata": {
    "collapsed": false
   },
   "outputs": [],
   "source": [
    "#load train data as numpy array\n",
    "X_train = np.genfromtxt('/Users/Amiros/GitHub/Machine Learning for Data Science/hw3/data/gaussian_process/X_train.csv',delimiter=',')\n",
    "y_train = np.genfromtxt('/Users/Amiros/GitHub/Machine Learning for Data Science/hw3/data/gaussian_process/y_train.csv',delimiter=',')\n",
    "\n",
    "#load test data as numpy array\n",
    "X_test = np.genfromtxt('/Users/Amiros/GitHub/Machine Learning for Data Science/hw3/data/gaussian_process/X_test.csv',delimiter=',')\n",
    "y_test = np.genfromtxt('/Users/Amiros/GitHub/Machine Learning for Data Science/hw3/data/gaussian_process/y_test.csv',delimiter=',')"
   ]
  },
  {
   "cell_type": "markdown",
   "metadata": {},
   "source": [
    "## 1-A"
   ]
  },
  {
   "cell_type": "code",
   "execution_count": null,
   "metadata": {
    "collapsed": false
   },
   "outputs": [],
   "source": [
    "# kernel matrix restricted points in Training data\n",
    "def K_restricted(X_train, b):\n",
    "    k = np.linalg.norm(X_train[None,:,:]-X_train[:,None,:],axis=2)\n",
    "    return np.exp(-1/b * k)\n",
    "\n",
    "def G_process(X_train, y_train, X_test, b, sigma):\n",
    "    K_n = K_restricted(X_train, b)\n",
    "    \n",
    "    I = np.identity(X_train.shape[0])\n",
    "    c = np.linalg.inv((sigma) * I + K_n)\n",
    "    \n",
    "    m = []\n",
    "    v = []\n",
    "    for i in range(X_test.shape[0]):\n",
    "    # Calculate mean\n",
    "        distance = np.sqrt(np.sum((X_test[i] - X_train) ** 2, axis=1))\n",
    "        G_Kernel = np.hstack(np.exp((-1/b) * distance).reshape(1,-1))\n",
    "        w = np.dot(G_Kernel, c)\n",
    "        a = np.dot(w, y_train)\n",
    "        m.append(a)\n",
    "\n",
    "    return m"
   ]
  },
  {
   "cell_type": "markdown",
   "metadata": {},
   "source": [
    "## 1-B"
   ]
  },
  {
   "cell_type": "code",
   "execution_count": null,
   "metadata": {
    "collapsed": false
   },
   "outputs": [],
   "source": [
    "b_list=[5,7,9,11,13,15]\n",
    "sigma_list=[.1,.2,.3,.4,.5,.6,.7,.8,.9,1]\n",
    "c = list(itertools.product(b_list, sigma_list))\n",
    "\n",
    "y_predict = []\n",
    "for i in range(len(c)):\n",
    "    y_predict.append(G_process(X_train, y_train, X_test, c[i][0], c[i][1]))\n",
    "y_predict = np.array(y_predict)"
   ]
  },
  {
   "cell_type": "code",
   "execution_count": null,
   "metadata": {
    "collapsed": false
   },
   "outputs": [],
   "source": [
    "y_predict"
   ]
  },
  {
   "cell_type": "code",
   "execution_count": null,
   "metadata": {
    "collapsed": false
   },
   "outputs": [],
   "source": [
    "def RMSE(y_predict, y_test, c):\n",
    "    rmse = []\n",
    "    \n",
    "    for i in range(len(c)):\n",
    "        a = math.sqrt(np.sum((y_predict[i] - y_test)**2) / 42)\n",
    "        rmse.append(a)  \n",
    "    return  rmse"
   ]
  },
  {
   "cell_type": "code",
   "execution_count": null,
   "metadata": {
    "collapsed": false
   },
   "outputs": [],
   "source": [
    "rmse = RMSE(y_predict, y_test, c)\n",
    "rmse_table = pd.DataFrame(\n",
    "    {'parameters': c, 'rmse_value': rmse})\n",
    "rmse_table"
   ]
  },
  {
   "cell_type": "markdown",
   "metadata": {},
   "source": [
    "## 1-C"
   ]
  },
  {
   "cell_type": "code",
   "execution_count": null,
   "metadata": {
    "collapsed": false
   },
   "outputs": [],
   "source": [
    "rmse_table.min()"
   ]
  },
  {
   "cell_type": "markdown",
   "metadata": {},
   "source": [
    "The best solution is for b= 5 and sigma = 0.1 with rmse value of 1.93031.\n",
    "\n",
    "This approach comapring to homework 1 gives lower rmse, therefore more accurate result."
   ]
  },
  {
   "cell_type": "markdown",
   "metadata": {},
   "source": [
    "## 1-D"
   ]
  },
  {
   "cell_type": "code",
   "execution_count": null,
   "metadata": {
    "collapsed": false
   },
   "outputs": [],
   "source": [
    "# aa = X_train[:,3]\n",
    "# bb = X_test[:,3]"
   ]
  },
  {
   "cell_type": "markdown",
   "metadata": {},
   "source": [
    "# 2"
   ]
  },
  {
   "cell_type": "code",
   "execution_count": 3,
   "metadata": {
    "collapsed": false
   },
   "outputs": [
    {
     "name": "stdout",
     "output_type": "stream",
     "text": [
      "time: 34.4 ms\n"
     ]
    }
   ],
   "source": [
    "#load train data as numpy array\n",
    "X_train0 = np.genfromtxt('/Users/Amiros/GitHub/Machine Learning for Data Science/hw3/data/boosting/X_train.csv',delimiter=',')\n",
    "y_train = np.genfromtxt('/Users/Amiros/GitHub/Machine Learning for Data Science/hw3/data/boosting/y_train.csv',delimiter=',')\n",
    "\n",
    "#load test data as numpy array\n",
    "X_test0 = np.genfromtxt('/Users/Amiros/GitHub/Machine Learning for Data Science/hw3/data/boosting/X_test.csv',delimiter=',')\n",
    "y_test = np.genfromtxt('/Users/Amiros/GitHub/Machine Learning for Data Science/hw3/data/boosting/y_test.csv',delimiter=',')"
   ]
  },
  {
   "cell_type": "code",
   "execution_count": 4,
   "metadata": {
    "collapsed": false
   },
   "outputs": [
    {
     "name": "stdout",
     "output_type": "stream",
     "text": [
      "time: 2.33 ms\n"
     ]
    }
   ],
   "source": [
    "X_train = np.hstack((X_train0, np.ones((1036,1), dtype=np.int)))\n",
    "X_test = np.hstack((X_test0, np.ones((1000,1), dtype=np.int)))"
   ]
  },
  {
   "cell_type": "code",
   "execution_count": 5,
   "metadata": {
    "collapsed": false
   },
   "outputs": [
    {
     "name": "stdout",
     "output_type": "stream",
     "text": [
      "time: 2.84 ms\n"
     ]
    }
   ],
   "source": [
    "# Least Square classification function\n",
    "def LS(X_train, y_train):\n",
    "    coef = np.linalg.inv(np.dot(X_train.T, X_train)).dot(X_train.T).dot(y_train)\n",
    "    return coef\n",
    "# np.sign(X_test.dot(w))"
   ]
  },
  {
   "cell_type": "code",
   "execution_count": 6,
   "metadata": {
    "collapsed": false
   },
   "outputs": [
    {
     "name": "stdout",
     "output_type": "stream",
     "text": [
      "time: 1.92 ms\n"
     ]
    }
   ],
   "source": [
    "coef = LS(X_train, y_train)\n",
    "# acc = (y_predict == y_test).sum()/len(y_predict)"
   ]
  },
  {
   "cell_type": "code",
   "execution_count": 7,
   "metadata": {
    "collapsed": false
   },
   "outputs": [
    {
     "name": "stdout",
     "output_type": "stream",
     "text": [
      "time: 3.02 ms\n"
     ]
    }
   ],
   "source": [
    "T = 1500\n",
    "w = np.full((X_train.shape[0]), 1/X_train.shape[0])\n",
    "# create an index lsit with the size of training data\n",
    "index = np.full((X_train.shape[0]), range(0,X_train.shape[0]))"
   ]
  },
  {
   "cell_type": "code",
   "execution_count": 17,
   "metadata": {
    "collapsed": false
   },
   "outputs": [
    {
     "name": "stdout",
     "output_type": "stream",
     "text": [
      "time: 661 ms\n"
     ]
    }
   ],
   "source": [
    "alpha_list = []\n",
    "coef_array = np.empty((0, 6))\n",
    "\n",
    "\n",
    "for i in range(T):\n",
    "\n",
    "    # choose random from the index according to the w distribution\n",
    "    B_index = index[np.random.choice(index.shape[0], index.shape[0], replace=True, p= w)]\n",
    "\n",
    "    # bootstrap samples\n",
    "    B_X = X_train[B_index]\n",
    "    B_y = y_train[B_index]\n",
    "\n",
    "    # predict\n",
    "    coef = LS(B_X, B_y)\n",
    "    y_pred = np.sign(X_train.dot(coef))\n",
    "    coef_array = np.append(coef_array, [coef], axis=0)\n",
    "\n",
    "    # updating weights \n",
    "    epsilon = np.multiply((y_train != y_pred), w).sum()\n",
    "    alpha = 0.5 * np.log((1 - epsilon)/epsilon)\n",
    "    alpha_list.append(alpha)\n",
    "\n",
    "    w_est = np.multiply(w, np.exp(-alpha * np.multiply(y_train, y_pred)))\n",
    "    w = w_est/ w_est.sum()"
   ]
  },
  {
   "cell_type": "code",
   "execution_count": 12,
   "metadata": {
    "collapsed": false
   },
   "outputs": [
    {
     "data": {
      "text/plain": [
       "((1500, 6), 1500)"
      ]
     },
     "execution_count": 12,
     "metadata": {},
     "output_type": "execute_result"
    },
    {
     "name": "stdout",
     "output_type": "stream",
     "text": [
      "time: 3.4 ms\n"
     ]
    }
   ],
   "source": [
    "coef_array.shape, len(alpha_list)"
   ]
  },
  {
   "cell_type": "code",
   "execution_count": null,
   "metadata": {
    "collapsed": true
   },
   "outputs": [],
   "source": []
  }
 ],
 "metadata": {
  "kernelspec": {
   "display_name": "Python 3",
   "language": "python",
   "name": "python3"
  },
  "language_info": {
   "codemirror_mode": {
    "name": "ipython",
    "version": 3
   },
   "file_extension": ".py",
   "mimetype": "text/x-python",
   "name": "python",
   "nbconvert_exporter": "python",
   "pygments_lexer": "ipython3",
   "version": "3.5.2"
  }
 },
 "nbformat": 4,
 "nbformat_minor": 0
}
