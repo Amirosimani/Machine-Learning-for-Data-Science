{
 "cells": [
  {
   "cell_type": "markdown",
   "metadata": {},
   "source": [
    "# Machine Learning - HW2\n",
    "## Amirhossein Imani - ai2335"
   ]
  },
  {
   "cell_type": "markdown",
   "metadata": {},
   "source": [
    "##  Problem 1 - a "
   ]
  },
  {
   "cell_type": "markdown",
   "metadata": {},
   "source": [
    "To derive $\\hat{\\pi}$ from the objection function, we need to take the derivative of objective function based on  ${\\pi}$.\n",
    "<br />\n",
    "It will be equal to:\n",
    "$$ \\frac{\\sigma}{\\sigma\\pi}\\sum_{i=0}^n lnp(y_i|\\pi) + \\frac{\\sigma}{\\sigma\\pi}\\sum_{i=0}^n lnp(x_i1|\\theta_{y_i}^{(1)}) + \\frac{\\sigma}{\\sigma\\pi}\\sum_{i=0}^n lnp(x_i2|\\theta_{y_i}^{(2)}) $$\n",
    "$$ = \\frac{\\sigma}{\\sigma\\pi}\\sum_{i=0}^n lnp(y_i|\\pi) + 0 + 0 = \\frac{\\sigma}{\\sigma\\pi}\\sum_{i=0}^n ln[\\pi^x_i(1-\\pi)^{1-x_i}] $$\n",
    "$$ = \\frac{\\sigma}{\\sigma\\pi}\\sum_{i=0}^n [ xln\\pi + (1-x)ln(1-\\pi)] = \\frac{\\sum_{i=0}^n x}{\\pi} + \\frac{\\sum_{i=0}^n 1-x}{1-\\pi} $$\n",
    "<br />\n",
    "\n",
    "\n",
    "To derive the MLE of $\\pi $, we have to set the above equation to zero and solve for $\\pi$.\n",
    "<br />\n",
    "<br />\n",
    "\n",
    "\n",
    "$$ \\frac{\\sum_{i=0}^n x}{\\pi} - \\frac{\\sum_{i=0}^n 1-x}{1-\\pi} = 0 => \\frac{\\sum_{i=0}^n x}{\\pi} = \\frac{n-\\sum_{i=0}^n x}{1-\\pi} =>$$\n",
    "$$ $$\n",
    "$$\\hat{\\pi}_{mle} = \\frac{\\sum_{i=0}^n x}{n}$$"
   ]
  },
  {
   "cell_type": "markdown",
   "metadata": {},
   "source": [
    "##  Problem 1 - b"
   ]
  },
  {
   "cell_type": "markdown",
   "metadata": {},
   "source": [
    "Steps are like above. first we have to take the derivative in respect to ${\\hat{\\theta}_y}^{(1)}$, equal that to zero and solve it.\n",
    "<br />\n",
    "$$ \\frac{\\sigma}{\\sigma{\\theta_y}^{(1)}}\\sum_{i=0}^n lnp(y_i|\\pi) + \\frac{\\sigma}{\\sigma{\\theta_y}^{(1)}}\\sum_{i=0}^n lnp(x_{i1}|\\theta_{y_i}^{(1)}) + \\frac{\\sigma}{\\sigma{\\theta_y}^{(1)}}\\sum_{i=0}^n lnp(x_{i2}|\\theta_{y_i}^{(1)}) $$\n",
    "$$ = 0 + \\frac{\\sigma}{\\sigma{\\theta_y}^{(1)}}\\sum_{i=0}^n lnp(x_i1|\\theta_{y_i}^{(1)}) + 0 = \\frac{\\sigma}{\\sigma\\theta_{y_i}^{(1)}}\\sum_{i=0}^n ln[\\theta^x_i(1-\\theta_{y_i}^{(1)})^{1-x_i}] = \\frac{\\sum_{i=0}^n x}{\\theta_{y_i}^{(1)}} + \\frac{\\sum_{i=0}^n 1-x}{1-\\theta_{y_i}^{(1)}}$$\n",
    "<br />\n",
    "\n",
    "\n",
    "To derive the MLE of $\\theta $, we have to set the above equation to zero and solve for $\\theta$.\n",
    "<br />\n",
    "\n",
    "\n",
    "$$ \\frac{\\sum_{i=0}^n x}{{\\theta_{y_i}^{(1)}}} - \\frac{\\sum_{i=0}^n 1-x}{1-{\\theta_{y_i}^{(1)}}} = 0 => \\frac{\\sum_{i=0}^n x}{{\\theta_{y_i}^{(1)}}} = \\frac{n-\\sum_{i=0}^n x}{1-{\\theta_{y_i}^{(1)}}} =>$$\n",
    "$$ $$\n",
    "$$\\hat{{\\theta_{y_i}^{(1)}}}_{mle} = \\frac{\\sum_{i=0}^n x}{n}$$"
   ]
  },
  {
   "cell_type": "markdown",
   "metadata": {},
   "source": [
    "##  Problem 1 - c"
   ]
  },
  {
   "cell_type": "markdown",
   "metadata": {},
   "source": [
    "Steps are like above. first we have to take the derivative in respect to ${\\hat{\\theta}_y}^{(2)}$, equal that to zero and solve it.\n",
    "<br />\n",
    "\n",
    "$$ \\frac{\\sigma}{\\sigma{\\theta_y}^{(2)}}\\sum_{i=0}^n lnp(y_i|\\pi) + \\frac{\\sigma}{\\sigma{\\theta_y}^{(2)}}\\sum_{i=0}^n lnp(x_{i1}|\\theta_{y_i}^{(1)}) + \\frac{\\sigma}{\\sigma{\\theta_y}^{(2)}}\\sum_{i=0}^n lnp(x_{i2}|\\theta_{y_i}^{(2)}) $$\n",
    "$$ = 0 + 0 + \\frac{\\sigma}{\\sigma{\\theta_y}^{(2)}}\\sum_{i=0}^n lnp(x_{i2}|\\theta_{y_i}^{(2)}) = \\frac{\\sigma}{\\sigma\\theta_{y_i}^{(2)}}\\sum_{i=0}^n ln[\\theta_{y}^{(2)}(x_{0,2})^{-(\\theta_y^{(2)}+1)}] = \\frac{\\sigma}{\\sigma\\theta_{y_i}^{(2)}}\\sum_{i=0}^n [ln\\theta_{y}^{(2)} - {(\\theta_y^{(2)}+1)}ln(x_{0,2})]$$\n",
    "<br />\n",
    "\n",
    "\n",
    "To derive the MLE of $\\theta $, we have to set the above equation to zero and solve for $\\theta$.\n",
    "<br />\n",
    "\n",
    "$$\\frac{\\sigma}{\\sigma\\theta_{y_i}^{(2)}}\\sum_{i=0}^n [ln\\theta_{y}^{(2)} - {(\\theta_y^{(2)}+1)}ln(x_{0,2})] = 0 => \\frac{n}{\\theta_{y_i}^{(2)}} - \\sum_{i=0}^n ln(x_{0,2}) = 0 = > \\frac{n}{\\theta_{y_i}^{(2)}} = \\sum_{i=0}^n ln(x_{0,2}) => $$\n",
    "$$ \\hat{{\\theta_{y_i}^{(2)}}}_{mle} = \\frac{n}{\\sum_{i=0}^n ln(x_{0,2})}$$\n",
    "\n"
   ]
  },
  {
   "cell_type": "markdown",
   "metadata": {},
   "source": [
    "# Problem 2"
   ]
  },
  {
   "cell_type": "code",
   "execution_count": 1,
   "metadata": {
    "collapsed": false
   },
   "outputs": [],
   "source": [
    "import numpy as np\n",
    "import pandas as pd\n",
    "import math\n",
    "import scipy.stats\n",
    "from scipy.special import expit\n",
    "\n",
    "import matplotlib\n",
    "import matplotlib.pyplot as plt\n",
    "from pylab import *\n",
    "%matplotlib inline"
   ]
  },
  {
   "cell_type": "code",
   "execution_count": 2,
   "metadata": {
    "collapsed": false
   },
   "outputs": [
    {
     "name": "stderr",
     "output_type": "stream",
     "text": [
      "/Users/Amiros/anaconda/lib/python3.5/site-packages/IPython/core/magics/extension.py:47: UserWarning: %install_ext` is deprecated, please distribute your extension as a python package.\n",
      "  \"as a python package.\", UserWarning)\n"
     ]
    },
    {
     "name": "stdout",
     "output_type": "stream",
     "text": [
      "Installed autotime.py. To use it, type:\n",
      "  %load_ext autotime\n"
     ]
    }
   ],
   "source": [
    "%install_ext https://raw.github.com/cpcloud/ipython-autotime/master/autotime.py\n",
    "%load_ext autotime"
   ]
  },
  {
   "cell_type": "code",
   "execution_count": 3,
   "metadata": {
    "collapsed": false
   },
   "outputs": [
    {
     "name": "stdout",
     "output_type": "stream",
     "text": [
      "time: 317 ms\n"
     ]
    }
   ],
   "source": [
    "#load train data as numpy array\n",
    "X_train = np.genfromtxt('/Users/Amiros/GitHub/Machine Learning for Data Science/hw2-data/X_train.csv',delimiter=',')\n",
    "y_train = np.genfromtxt('/Users/Amiros/GitHub/Machine Learning for Data Science/hw2-data/y_train.csv',delimiter=',')\n",
    "\n",
    "#load test data as numpy array\n",
    "X_test = np.genfromtxt('/Users/Amiros/GitHub/Machine Learning for Data Science/hw2-data/X_test.csv',delimiter=',')\n",
    "y_test = np.genfromtxt('/Users/Amiros/GitHub/Machine Learning for Data Science/hw2-data/y_test.csv',delimiter=',')"
   ]
  },
  {
   "cell_type": "code",
   "execution_count": 4,
   "metadata": {
    "collapsed": false
   },
   "outputs": [
    {
     "name": "stdout",
     "output_type": "stream",
     "text": [
      "time: 18.9 ms\n"
     ]
    }
   ],
   "source": [
    "# class index\n",
    "index_0 = np.where(y_train == 0)[0]\n",
    "index_1 = np.where(y_train == 1)[0]\n",
    "\n",
    "# lengths\n",
    "n = X_train.shape[0] \n",
    "n_0 = index_0.shape[0]\n",
    "n_1 = index_1.shape[0]\n",
    "\n",
    "# Calculate parameters for p(y), theta_Bern, and theta_Pareto\n",
    "#pi_y = np.mean(y_train, axis=0)\n",
    "\n",
    "pi_y_0 = index_0.shape[0]/n\n",
    "pi_y_1 = index_1.shape[0]/n\n",
    "\n",
    "\n",
    "theta_X_0_Bern = np.mean(X_train[index_0, 0:54], axis = 0)\n",
    "theta_X_1_Bern = np.mean(X_train[index_1, 0:54], axis = 0)\n",
    "\n",
    "\n",
    "theta_X_0_Pareto = n_0/np.log(X_train[index_0, 54:57]).sum(axis = 0)\n",
    "theta_X_1_Pareto = n_1/np.log(X_train[index_1, 54:57]).sum(axis = 0)\n",
    "\n",
    "\n",
    "# Concatenating parameters \n",
    "# theta_X_0 = np.concatenate((theta_X_0_Bern, theta_X_0_Pareto), axis=0)\n",
    "# theta_X_1 = np.concatenate((theta_X_1_Bern, theta_X_1_Pareto), axis=0)"
   ]
  },
  {
   "cell_type": "code",
   "execution_count": 5,
   "metadata": {
    "collapsed": false
   },
   "outputs": [
    {
     "name": "stdout",
     "output_type": "stream",
     "text": [
      "time: 40.9 ms\n"
     ]
    }
   ],
   "source": [
    "# Building Bayes classfier \n",
    "classifier = []\n",
    "\n",
    "for i in range(X_test.shape[0]):\n",
    "    Bern_0 = np.multiply(np.power(theta_X_0_Bern, X_test[i,0:54]), np.power(1-theta_X_0_Bern, 1-X_test[i,0:54])) \n",
    "    Bern_1 = np.multiply(np.power(theta_X_1_Bern, X_test[i,0:54]), np.power(1-theta_X_1_Bern, 1-X_test[i,0:54])) \n",
    "\n",
    "    Prato_0 = np.multiply(theta_X_0_Pareto, np.power(X_test[i, 54:57], -1-theta_X_0_Pareto))\n",
    "    Prato_1 = np.multiply(theta_X_1_Pareto, np.power(X_test[i, 54:57], -1-theta_X_1_Pareto))\n",
    "\n",
    "\n",
    "    full_row_0 = np.concatenate((Bern_0, Prato_0), axis = 0)\n",
    "    full_row_1 = np.concatenate((Bern_1, Prato_1), axis = 0) \n",
    "    \n",
    "#     \n",
    "#     \n",
    "    \n",
    "    p = [np.prod(full_row_0) * pi_y_0, np.prod(full_row_1) * pi_y_1]\n",
    "      \n",
    "    classifier.append(p)\n",
    "\n",
    "classifier_df = pd.DataFrame(classifier, columns=[0,1])\n",
    "\n",
    "\n",
    "# Find the column name which has the maximum value for each row\n",
    "y_predict = classifier_df.idxmax(axis=1).tolist()"
   ]
  },
  {
   "cell_type": "code",
   "execution_count": 6,
   "metadata": {
    "collapsed": false
   },
   "outputs": [
    {
     "name": "stdout",
     "output_type": "stream",
     "text": [
      "Predicted   0   1\n",
      "Actual           \n",
      "0.0        54   2\n",
      "1.0         5  32 \n",
      " \n",
      " Accuracy: 0.9247311827956989\n",
      "time: 29.4 ms\n"
     ]
    }
   ],
   "source": [
    "# Confusion Matrix\n",
    "(y_predict == y_test).sum()\n",
    "\n",
    "y_actu = pd.Series(y_test, name='Actual')\n",
    "y_predict = pd.Series(y_predict, name='Predicted')\n",
    "df_confusion = pd.crosstab(y_actu, y_predict)\n",
    "\n",
    "accu = (54 + 32)/ 93\n",
    "print(df_confusion, '\\n', '\\n',\"Accuracy:\",accu)"
   ]
  },
  {
   "cell_type": "markdown",
   "metadata": {},
   "source": [
    "## B - Stem Plot"
   ]
  },
  {
   "cell_type": "code",
   "execution_count": 7,
   "metadata": {
    "collapsed": false
   },
   "outputs": [
    {
     "data": {
      "image/png": "[encoded data removed]",
      "text/plain": [
       "<matplotlib.figure.Figure at 0x111206320>"
      ]
     },
     "metadata": {},
     "output_type": "display_data"
    },
    {
     "name": "stdout",
     "output_type": "stream",
     "text": [
      "time: 687 ms\n"
     ]
    }
   ],
   "source": [
    "plt.figure(figsize=(12,8))\n",
    "\n",
    "plt.stem(theta_X_1_Bern)\n",
    "plt.setp(plt.stem(theta_X_0_Bern), linewidth = .75, color ='r')\n",
    "plt.xlim(-.05,56)\n",
    "plt.ylim(0,1)\n",
    "plt.title('Stem plot for Bernoulli parameters of each class')\n",
    "labels = ['Class 0', 'Class 1']\n",
    "plt.legend(labels)\n",
    "\n",
    "plt.show()"
   ]
  },
  {
   "cell_type": "markdown",
   "metadata": {},
   "source": [
    "## C - KNN Algorithm"
   ]
  },
  {
   "cell_type": "code",
   "execution_count": 8,
   "metadata": {
    "collapsed": false
   },
   "outputs": [
    {
     "name": "stdout",
     "output_type": "stream",
     "text": [
      "time: 23.7 ms\n"
     ]
    }
   ],
   "source": [
    "# Function to implement K Nearest Neighbours \n",
    "def knn_classifier(training_data, train_label,test_data, test_label, k):\n",
    "    \n",
    "    dist = np.empty([training_data.shape[0],])\n",
    "    knn_prediction = pd.DataFrame()\n",
    "\n",
    "    \n",
    "    for i in range(test_data.shape[0]):\n",
    "        dist = np.column_stack((dist, np.sum(np.abs(test_data[i,:] - training_data ), axis=1)))\n",
    "\n",
    "    for i in range(test_data.shape[0]):\n",
    "        for k in range(1,k+1):\n",
    "            knn_index = dist[:,i].argsort()[:k]\n",
    "            training_lables = y_train[knn_index]\n",
    "\n",
    "            knn_prediction.set_value(i,k, scipy.stats.mode(training_lables)[0][0])\n",
    "    \n",
    "    # accuracy\n",
    "    knn_arr = knn_prediction.values\n",
    "    knn_accuracy = []\n",
    "\n",
    "    for i in range(0,k):\n",
    "        correct_predict = np.where(knn_arr[:,i] == test_label)[0].shape[0]\n",
    "        knn_accuracy.append(correct_predict/93)\n",
    "\n",
    "    return knn_prediction, knn_accuracy"
   ]
  },
  {
   "cell_type": "code",
   "execution_count": 9,
   "metadata": {
    "collapsed": false
   },
   "outputs": [
    {
     "name": "stdout",
     "output_type": "stream",
     "text": [
      "time: 1.59 s\n"
     ]
    }
   ],
   "source": [
    "knn_prediction, acc = knn_classifier(X_train, y_train, X_test, y_test,20)"
   ]
  },
  {
   "cell_type": "code",
   "execution_count": 10,
   "metadata": {
    "collapsed": false
   },
   "outputs": [
    {
     "data": {
      "text/plain": [
       "<matplotlib.text.Text at 0x1031e46d8>"
      ]
     },
     "execution_count": 10,
     "metadata": {},
     "output_type": "execute_result"
    },
    {
     "data": {
      "image/png": "[encoded data removed]",
      "text/plain": [
       "<matplotlib.figure.Figure at 0x111544630>"
      ]
     },
     "metadata": {},
     "output_type": "display_data"
    },
    {
     "name": "stdout",
     "output_type": "stream",
     "text": [
      "time: 565 ms\n"
     ]
    }
   ],
   "source": [
    "plt.figure(figsize=(12,8))\n",
    "\n",
    "plt.plot(acc)\n",
    "\n",
    "plt.xlim([0, 20])\n",
    "plt.xticks(np.arange(0, 20, 1))\n",
    "\n",
    "# Chart title\n",
    "plt.title('kNN prediction accuracy as a function of k')"
   ]
  },
  {
   "cell_type": "markdown",
   "metadata": {},
   "source": [
    "# D- Logistic Regression - steepest ascent algorithm"
   ]
  },
  {
   "cell_type": "code",
   "execution_count": 11,
   "metadata": {
    "collapsed": false
   },
   "outputs": [
    {
     "name": "stdout",
     "output_type": "stream",
     "text": [
      "time: 9.07 ms\n"
     ]
    }
   ],
   "source": [
    "# replacing all 0s with -1\n",
    "y_train_reg, y_test_reg = y_train, y_test\n",
    "\n",
    "y_train_reg[y_train_reg == 0] = -1\n",
    "y_test_reg[y_test_reg == 0] = -1\n",
    "\n",
    "# add an extra dimesnion to data\n",
    "X_train_reg = np.concatenate((X_train, np.tile(1, (X_train.shape[0],1))), axis=1)\n",
    "X_test_reg = np.concatenate((X_test, np.tile(1, (X_test.shape[0],1))), axis=1)"
   ]
  },
  {
   "cell_type": "code",
   "execution_count": 13,
   "metadata": {
    "collapsed": false
   },
   "outputs": [
    {
     "name": "stdout",
     "output_type": "stream",
     "text": [
      "time: 25 s\n"
     ]
    }
   ],
   "source": [
    "def sigmoid(scores, y):\n",
    "    return 1/(1+ expit( - y * scores))\n",
    "\n",
    "# Initializing the parameters\n",
    "num_iteration = 10000\n",
    "weights = np.zeros(X_train_reg.shape[1])\n",
    "obj_function = np.empty([0,0])\n",
    "\n",
    "for steps in range(1,num_iteration + 1):\n",
    "    \n",
    "    # setting the learning rate\n",
    "    learning_rate = 1e-05/math.sqrt( num_iteration + 1)\n",
    "      \n",
    "    scores = np.dot(X_train_reg, weights)\n",
    "    s = sigmoid(scores,y_train_reg)\n",
    "    \n",
    "    # Updated weights with gradient ascend\n",
    "    output_error = (1 - s) * y_train_reg\n",
    "    gradient = np.sum(X_train_reg * output_error[:, np.newaxis], axis = 0)\n",
    "    weights += learning_rate * gradient\n",
    "    \n",
    "    # Appending the objective value of iteratio\n",
    "    obj_function = np.append(obj_function, np.sum(np.log(s)))"
   ]
  },
  {
   "cell_type": "code",
   "execution_count": 18,
   "metadata": {
    "collapsed": false
   },
   "outputs": [
    {
     "data": {
      "text/plain": [
       "<matplotlib.text.Text at 0x1113dc748>"
      ]
     },
     "execution_count": 18,
     "metadata": {},
     "output_type": "execute_result"
    },
    {
     "data": {
      "image/png": "[encoded data removed]",
      "text/plain": [
       "<matplotlib.figure.Figure at 0x10956cd68>"
      ]
     },
     "metadata": {},
     "output_type": "display_data"
    },
    {
     "name": "stdout",
     "output_type": "stream",
     "text": [
      "time: 715 ms\n"
     ]
    }
   ],
   "source": [
    "plt.figure(figsize=(12,8))\n",
    "\n",
    "plt.plot(obj_function)\n",
    "plt.title('Objective function value for each iteration')\n",
    "plt.xlabel('iteration')\n",
    "plt.ylabel('objective function value')"
   ]
  },
  {
   "cell_type": "markdown",
   "metadata": {},
   "source": [
    "## E- Newton Method"
   ]
  },
  {
   "cell_type": "code",
   "execution_count": null,
   "metadata": {
    "collapsed": true
   },
   "outputs": [],
   "source": []
  }
 ],
 "metadata": {
  "kernelspec": {
   "display_name": "Python 3",
   "language": "python",
   "name": "python3"
  },
  "language_info": {
   "codemirror_mode": {
    "name": "ipython",
    "version": 3
   },
   "file_extension": ".py",
   "mimetype": "text/x-python",
   "name": "python",
   "nbconvert_exporter": "python",
   "pygments_lexer": "ipython3",
   "version": "3.5.2"
  }
 },
 "nbformat": 4,
 "nbformat_minor": 0
}
