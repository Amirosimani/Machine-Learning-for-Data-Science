{
 "cells": [
  {
   "cell_type": "code",
   "execution_count": 56,
   "metadata": {
    "collapsed": false
   },
   "outputs": [
    {
     "name": "stdout",
     "output_type": "stream",
     "text": [
      "time: 16.9 ms\n"
     ]
    }
   ],
   "source": [
    "import numpy as np\n",
    "import pandas as pd\n",
    "import math\n",
    "import scipy.stats\n",
    "from scipy.special import expit\n",
    "\n",
    "import matplotlib\n",
    "import matplotlib.pyplot as plt\n",
    "from pylab import *\n",
    "%matplotlib inline"
   ]
  },
  {
   "cell_type": "code",
   "execution_count": 2,
   "metadata": {
    "collapsed": false
   },
   "outputs": [
    {
     "name": "stderr",
     "output_type": "stream",
     "text": [
      "/Users/Amiros/anaconda/lib/python3.5/site-packages/IPython/core/magics/extension.py:47: UserWarning: %install_ext` is deprecated, please distribute your extension as a python package.\n",
      "  \"as a python package.\", UserWarning)\n"
     ]
    },
    {
     "name": "stdout",
     "output_type": "stream",
     "text": [
      "Installed autotime.py. To use it, type:\n",
      "  %load_ext autotime\n"
     ]
    }
   ],
   "source": [
    "%install_ext https://raw.github.com/cpcloud/ipython-autotime/master/autotime.py\n",
    "%load_ext autotime"
   ]
  },
  {
   "cell_type": "code",
   "execution_count": 3,
   "metadata": {
    "collapsed": false
   },
   "outputs": [
    {
     "name": "stdout",
     "output_type": "stream",
     "text": [
      "time: 467 ms\n"
     ]
    }
   ],
   "source": [
    "#load train data as numpy array\n",
    "X_train = np.genfromtxt('/Users/Amiros/GitHub/Machine Learning for Data Science/hw2-data/X_train.csv',delimiter=',')\n",
    "y_train = np.genfromtxt('/Users/Amiros/GitHub/Machine Learning for Data Science/hw2-data/y_train.csv',delimiter=',')\n",
    "\n",
    "#load test data as numpy array\n",
    "X_test = np.genfromtxt('/Users/Amiros/GitHub/Machine Learning for Data Science/hw2-data/X_test.csv',delimiter=',')\n",
    "y_test = np.genfromtxt('/Users/Amiros/GitHub/Machine Learning for Data Science/hw2-data/y_test.csv',delimiter=',')"
   ]
  },
  {
   "cell_type": "code",
   "execution_count": 4,
   "metadata": {
    "collapsed": false
   },
   "outputs": [
    {
     "name": "stdout",
     "output_type": "stream",
     "text": [
      "time: 20.2 ms\n"
     ]
    }
   ],
   "source": [
    "# class index\n",
    "index_0 = np.where(y_train == 0)[0]\n",
    "index_1 = np.where(y_train == 1)[0]\n",
    "\n",
    "# lengths\n",
    "n = X_train.shape[0] \n",
    "n_0 = index_0.shape[0]\n",
    "n_1 = index_1.shape[0]\n",
    "\n",
    "# Calculate parameters for p(y), theta_Bern, and theta_Pareto\n",
    "#pi_y = np.mean(y_train, axis=0)\n",
    "\n",
    "pi_y_0 = index_0.shape[0]/n\n",
    "pi_y_1 = index_1.shape[0]/n\n",
    "\n",
    "\n",
    "theta_X_0_Bern = np.mean(X_train[index_0, 0:54], axis = 0)\n",
    "theta_X_1_Bern = np.mean(X_train[index_1, 0:54], axis = 0)\n",
    "\n",
    "\n",
    "theta_X_0_Pareto = n_0/np.log(X_train[index_0, 54:57]).sum(axis = 0)\n",
    "theta_X_1_Pareto = n_1/np.log(X_train[index_1, 54:57]).sum(axis = 0)\n",
    "\n",
    "\n",
    "# Concatenating parameters \n",
    "# theta_X_0 = np.concatenate((theta_X_0_Bern, theta_X_0_Pareto), axis=0)\n",
    "# theta_X_1 = np.concatenate((theta_X_1_Bern, theta_X_1_Pareto), axis=0)"
   ]
  },
  {
   "cell_type": "code",
   "execution_count": 6,
   "metadata": {
    "collapsed": false
   },
   "outputs": [
    {
     "name": "stdout",
     "output_type": "stream",
     "text": [
      "time: 45.3 ms\n"
     ]
    }
   ],
   "source": [
    "# Building Bayes classfier \n",
    "classifier = []\n",
    "\n",
    "for i in range(X_test.shape[0]):\n",
    "    Bern_0 = np.multiply(np.power(theta_X_0_Bern, X_test[i,0:54]), np.power(1-theta_X_0_Bern, 1-X_test[i,0:54])) \n",
    "    Bern_1 = np.multiply(np.power(theta_X_1_Bern, X_test[i,0:54]), np.power(1-theta_X_1_Bern, 1-X_test[i,0:54])) \n",
    "\n",
    "    Prato_0 = np.multiply(theta_X_0_Pareto, np.power(X_test[i, 54:57], -1-theta_X_0_Pareto))\n",
    "    Prato_1 = np.multiply(theta_X_1_Pareto, np.power(X_test[i, 54:57], -1-theta_X_1_Pareto))\n",
    "\n",
    "\n",
    "    full_row_0 = np.concatenate((Bern_0, Prato_0), axis = 0)\n",
    "    full_row_1 = np.concatenate((Bern_1, Prato_1), axis = 0) \n",
    "    \n",
    "#     \n",
    "#     \n",
    "    \n",
    "    p = [np.prod(full_row_0) * pi_y_0, np.prod(full_row_1) * pi_y_1]\n",
    "      \n",
    "    classifier.append(p)\n",
    "\n",
    "classifier_df = pd.DataFrame(classifier, columns=[0,1])\n",
    "\n",
    "\n",
    "# Find the column name which has the maximum value for each row\n",
    "y_predict = classifier_df.idxmax(axis=1).tolist()"
   ]
  },
  {
   "cell_type": "code",
   "execution_count": 7,
   "metadata": {
    "collapsed": false
   },
   "outputs": [
    {
     "name": "stdout",
     "output_type": "stream",
     "text": [
      "Predicted   0   1\n",
      "Actual           \n",
      "0.0        54   2\n",
      "1.0         5  32 \n",
      " \n",
      " Accuracy: 0.9247311827956989\n",
      "time: 33.2 ms\n"
     ]
    }
   ],
   "source": [
    "# Confusion Matrix\n",
    "(y_predict == y_test).sum()\n",
    "\n",
    "y_actu = pd.Series(y_test, name='Actual')\n",
    "y_predict = pd.Series(y_predict, name='Predicted')\n",
    "df_confusion = pd.crosstab(y_actu, y_predict)\n",
    "\n",
    "accu = (54 + 32)/ 93\n",
    "print(df_confusion, '\\n', '\\n',\"Accuracy:\",accu)"
   ]
  },
  {
   "cell_type": "markdown",
   "metadata": {},
   "source": [
    "## B - Stem Plot"
   ]
  },
  {
   "cell_type": "code",
   "execution_count": 8,
   "metadata": {
    "collapsed": false
   },
   "outputs": [
    {
     "data": {
      "image/png": "[encoded data removed]",
      "text/plain": [
       "<matplotlib.figure.Figure at 0x110720550>"
      ]
     },
     "metadata": {},
     "output_type": "display_data"
    },
    {
     "name": "stdout",
     "output_type": "stream",
     "text": [
      "time: 934 ms\n"
     ]
    }
   ],
   "source": [
    "plt.figure(figsize=(12,8))\n",
    "\n",
    "plt.stem(theta_X_1_Bern)\n",
    "plt.setp(plt.stem(theta_X_0_Bern), linewidth = .75, color ='r')\n",
    "plt.xlim(-.05,56)\n",
    "plt.ylim(0,1)\n",
    "plt.title('Stem plot for Bernoulli parameters of each class')\n",
    "labels = ['Class 0', 'Class 1']\n",
    "plt.legend(labels)\n",
    "\n",
    "plt.show()"
   ]
  },
  {
   "cell_type": "markdown",
   "metadata": {},
   "source": [
    "## C - KNN Algorithm"
   ]
  },
  {
   "cell_type": "code",
   "execution_count": 12,
   "metadata": {
    "collapsed": false
   },
   "outputs": [
    {
     "name": "stdout",
     "output_type": "stream",
     "text": [
      "time: 28.9 ms\n"
     ]
    }
   ],
   "source": [
    "# Function to implement K Nearest Neighbours \n",
    "def knn_classifier(training_data, train_label,test_data, test_label, k):\n",
    "    \n",
    "    dist = np.empty([training_data.shape[0],])\n",
    "    knn_prediction = pd.DataFrame()\n",
    "\n",
    "    \n",
    "    for i in range(test_data.shape[0]):\n",
    "        dist = np.column_stack((dist, np.sum(np.abs(test_data[i,:] - training_data ), axis=1)))\n",
    "\n",
    "    for i in range(test_data.shape[0]):\n",
    "        for k in range(1,k+1):\n",
    "            knn_index = dist[:,i].argsort()[:k]\n",
    "            training_lables = y_train[knn_index]\n",
    "\n",
    "            knn_prediction.set_value(i,k, scipy.stats.mode(training_lables)[0][0])\n",
    "    \n",
    "    # accuracy\n",
    "    knn_arr = knn_prediction.values\n",
    "    knn_accuracy = []\n",
    "\n",
    "    for i in range(0,k):\n",
    "        correct_predict = np.where(knn_arr[:,i] == test_label)[0].shape[0]\n",
    "        knn_accuracy.append(correct_predict/93)\n",
    "\n",
    "    return knn_prediction, knn_accuracy"
   ]
  },
  {
   "cell_type": "code",
   "execution_count": 13,
   "metadata": {
    "collapsed": false
   },
   "outputs": [
    {
     "name": "stdout",
     "output_type": "stream",
     "text": [
      "time: 1.84 s\n"
     ]
    }
   ],
   "source": [
    "knn_prediction, acc = knn_classifier(X_train, y_train, X_test, y_test,20)"
   ]
  },
  {
   "cell_type": "code",
   "execution_count": 14,
   "metadata": {
    "collapsed": false
   },
   "outputs": [
    {
     "data": {
      "text/plain": [
       "<matplotlib.text.Text at 0x111ca0828>"
      ]
     },
     "execution_count": 14,
     "metadata": {},
     "output_type": "execute_result"
    },
    {
     "data": {
      "image/png": "[encoded data removed]",
      "text/plain": [
       "<matplotlib.figure.Figure at 0x111999a20>"
      ]
     },
     "metadata": {},
     "output_type": "display_data"
    },
    {
     "name": "stdout",
     "output_type": "stream",
     "text": [
      "time: 496 ms\n"
     ]
    }
   ],
   "source": [
    "plt.figure(figsize=(12,8))\n",
    "\n",
    "plt.plot(acc)\n",
    "\n",
    "plt.xlim([0, 20])\n",
    "plt.xticks(np.arange(0, 20, 1))\n",
    "\n",
    "# Chart title\n",
    "plt.title('kNN prediction accuracy as a function of k')"
   ]
  },
  {
   "cell_type": "markdown",
   "metadata": {},
   "source": [
    "# D- Logistic Regression - steepest ascent algorithm"
   ]
  },
  {
   "cell_type": "code",
   "execution_count": 36,
   "metadata": {
    "collapsed": false
   },
   "outputs": [
    {
     "name": "stdout",
     "output_type": "stream",
     "text": [
      "time: 12.2 ms\n"
     ]
    }
   ],
   "source": [
    "# replacing all 0s with -1\n",
    "y_train_reg, y_test_reg = y_train, y_test\n",
    "\n",
    "y_train_reg[y_train_reg == 0] = -1\n",
    "y_test_reg[y_test_reg == 0] = -1\n",
    "\n",
    "# add an extra dimesnion to data\n",
    "X_train_reg = np.concatenate((X_train, np.tile(1, (X_train.shape[0],1))), axis=1)\n",
    "X_test_reg = np.concatenate((X_test, np.tile(1, (X_test.shape[0],1))), axis=1)"
   ]
  },
  {
   "cell_type": "code",
   "execution_count": 260,
   "metadata": {
    "collapsed": false
   },
   "outputs": [
    {
     "ename": "TypeError",
     "evalue": "sigmoid() takes 2 positional arguments but 3 were given",
     "output_type": "error",
     "traceback": [
      "\u001b[0;31m---------------------------------------------------------------------------\u001b[0m",
      "\u001b[0;31mTypeError\u001b[0m                                 Traceback (most recent call last)",
      "\u001b[0;32m<ipython-input-260-aafdc1a36a32>\u001b[0m in \u001b[0;36m<module>\u001b[0;34m()\u001b[0m\n\u001b[1;32m     11\u001b[0m \u001b[0;34m\u001b[0m\u001b[0m\n\u001b[1;32m     12\u001b[0m     \u001b[0;32mfor\u001b[0m \u001b[0mi\u001b[0m \u001b[0;32min\u001b[0m \u001b[0mrange\u001b[0m\u001b[0;34m(\u001b[0m\u001b[0my_train_reg\u001b[0m\u001b[0;34m.\u001b[0m\u001b[0mshape\u001b[0m\u001b[0;34m[\u001b[0m\u001b[0;36m0\u001b[0m\u001b[0;34m]\u001b[0m\u001b[0;34m)\u001b[0m\u001b[0;34m:\u001b[0m\u001b[0;34m\u001b[0m\u001b[0m\n\u001b[0;32m---> 13\u001b[0;31m         \u001b[0mL\u001b[0m \u001b[0;34m=\u001b[0m \u001b[0;34m(\u001b[0m\u001b[0;36m1\u001b[0m \u001b[0;34m-\u001b[0m \u001b[0msigmoid\u001b[0m\u001b[0;34m(\u001b[0m\u001b[0mX_train_reg\u001b[0m\u001b[0;34m[\u001b[0m\u001b[0mi\u001b[0m\u001b[0;34m,\u001b[0m\u001b[0;34m:\u001b[0m\u001b[0;34m]\u001b[0m\u001b[0;34m,\u001b[0m \u001b[0my_train_reg\u001b[0m\u001b[0;34m[\u001b[0m\u001b[0mi\u001b[0m\u001b[0;34m]\u001b[0m\u001b[0;34m,\u001b[0m \u001b[0mw\u001b[0m \u001b[0;34m)\u001b[0m\u001b[0;34m)\u001b[0m \u001b[0;34m*\u001b[0m \u001b[0my_train_reg\u001b[0m\u001b[0;34m[\u001b[0m\u001b[0mi\u001b[0m\u001b[0;34m]\u001b[0m \u001b[0;34m*\u001b[0m \u001b[0mX_train_reg\u001b[0m\u001b[0;34m[\u001b[0m\u001b[0mi\u001b[0m\u001b[0;34m,\u001b[0m\u001b[0;34m:\u001b[0m\u001b[0;34m]\u001b[0m\u001b[0;34m\u001b[0m\u001b[0m\n\u001b[0m\u001b[1;32m     14\u001b[0m         \u001b[0mascend\u001b[0m \u001b[0;34m=\u001b[0m  \u001b[0mnp\u001b[0m\u001b[0;34m.\u001b[0m\u001b[0msum\u001b[0m\u001b[0;34m(\u001b[0m\u001b[0;34m[\u001b[0m\u001b[0mascend\u001b[0m\u001b[0;34m,\u001b[0m \u001b[0mL\u001b[0m\u001b[0;34m]\u001b[0m\u001b[0;34m,\u001b[0m \u001b[0maxis\u001b[0m \u001b[0;34m=\u001b[0m \u001b[0;36m0\u001b[0m\u001b[0;34m)\u001b[0m\u001b[0;34m\u001b[0m\u001b[0m\n\u001b[1;32m     15\u001b[0m \u001b[0;34m\u001b[0m\u001b[0m\n",
      "\u001b[0;31mTypeError\u001b[0m: sigmoid() takes 2 positional arguments but 3 were given"
     ]
    },
    {
     "name": "stdout",
     "output_type": "stream",
     "text": [
      "time: 29.8 ms\n"
     ]
    }
   ],
   "source": [
    "def sigmoid(X, y, w):\n",
    "    return 1/(1+ expit( - y * np.dot(X, w )))\n",
    "\n",
    "\n",
    "for t in range(1,2):\n",
    "    step = 1e-05/math.sqrt( t + 1)\n",
    "        \n",
    "    w  = np.zeros(58)\n",
    "    ascend = np.empty([X_train_reg.shape[1],])\n",
    "\n",
    "    for i in range(y_train_reg.shape[0]):\n",
    "        L = (1 - sigmoid(X_train_reg[i,:], y_train_reg[i], w )) * y_train_reg[i] * X_train_reg[i,:]\n",
    "        ascend =  np.sum([ascend, L], axis = 0)\n",
    "        \n",
    "\n",
    "    w = w + step * ascend"
   ]
  },
  {
   "cell_type": "code",
   "execution_count": 366,
   "metadata": {
    "collapsed": false
   },
   "outputs": [
    {
     "name": "stdout",
     "output_type": "stream",
     "text": [
      "time: 16.7 s\n"
     ]
    }
   ],
   "source": [
    "def sigmoid(scores, y):\n",
    "    return 1/(1+ expit( - y * scores))\n",
    "\n",
    "# Initializing the parameters\n",
    "num_iteration = 10000\n",
    "weights = np.zeros(X_train_reg.shape[1])\n",
    "obj_function = np.empty([0,0])\n",
    "\n",
    "for steps in range(1,num_iteration + 1):\n",
    "    \n",
    "    # setting the learning rate\n",
    "    learning_rate = 1e-05/math.sqrt( num_iteration + 1)\n",
    "      \n",
    "    scores = np.dot(X_train_reg, weights)\n",
    "    s = sigmoid(scores,y_train_reg)\n",
    "    \n",
    "    # Updated weights with gradient ascend\n",
    "    output_error = (1 - s) * y_train_reg\n",
    "    gradient = np.sum(X_train_reg * output_error[:, np.newaxis], axis = 0)\n",
    "    weights += learning_rate * gradient\n",
    "    \n",
    "    # Appending the objective value of iteratio\n",
    "    obj_function = np.append(obj_function, np.sum(np.log(s)))"
   ]
  },
  {
   "cell_type": "code",
   "execution_count": null,
   "metadata": {
    "collapsed": true
   },
   "outputs": [],
   "source": []
  }
 ],
 "metadata": {
  "kernelspec": {
   "display_name": "Python 3",
   "language": "python",
   "name": "python3"
  },
  "language_info": {
   "codemirror_mode": {
    "name": "ipython",
    "version": 3
   },
   "file_extension": ".py",
   "mimetype": "text/x-python",
   "name": "python",
   "nbconvert_exporter": "python",
   "pygments_lexer": "ipython3",
   "version": "3.5.2"
  }
 },
 "nbformat": 4,
 "nbformat_minor": 0
}
