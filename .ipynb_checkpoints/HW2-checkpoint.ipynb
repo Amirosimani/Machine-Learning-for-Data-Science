{
 "cells": [
  {
   "cell_type": "code",
   "execution_count": 1,
   "metadata": {
    "collapsed": false
   },
   "outputs": [],
   "source": [
    "import numpy as np\n",
    "import pandas as pd\n",
    "from numpy.linalg import inv\n",
    "import math\n",
    "\n",
    "import matplotlib\n",
    "import matplotlib.pyplot as plt\n",
    "from pylab import *\n",
    "%matplotlib inline"
   ]
  },
  {
   "cell_type": "code",
   "execution_count": 2,
   "metadata": {
    "collapsed": false
   },
   "outputs": [
    {
     "name": "stderr",
     "output_type": "stream",
     "text": [
      "/Users/Amiros/anaconda/lib/python3.5/site-packages/IPython/core/magics/extension.py:47: UserWarning: %install_ext` is deprecated, please distribute your extension as a python package.\n",
      "  \"as a python package.\", UserWarning)\n"
     ]
    },
    {
     "name": "stdout",
     "output_type": "stream",
     "text": [
      "Installed autotime.py. To use it, type:\n",
      "  %load_ext autotime\n"
     ]
    }
   ],
   "source": [
    "%install_ext https://raw.github.com/cpcloud/ipython-autotime/master/autotime.py\n",
    "%load_ext autotime"
   ]
  },
  {
   "cell_type": "code",
   "execution_count": 3,
   "metadata": {
    "collapsed": false
   },
   "outputs": [
    {
     "name": "stdout",
     "output_type": "stream",
     "text": [
      "time: 337 ms\n"
     ]
    }
   ],
   "source": [
    "#load train data as numpy array\n",
    "X_train = np.genfromtxt('/Users/Amiros/GitHub/Machine Learning for Data Science/hw2-data/X_train.csv',delimiter=',')\n",
    "y_train = np.genfromtxt('/Users/Amiros/GitHub/Machine Learning for Data Science/hw2-data/y_train.csv',delimiter=',')\n",
    "\n",
    "#load test data as numpy array\n",
    "X_test = np.genfromtxt('/Users/Amiros/GitHub/Machine Learning for Data Science/hw2-data/X_test.csv',delimiter=',')\n",
    "y_test = np.genfromtxt('/Users/Amiros/GitHub/Machine Learning for Data Science/hw2-data/y_test.csv',delimiter=',')"
   ]
  },
  {
   "cell_type": "code",
   "execution_count": 4,
   "metadata": {
    "collapsed": false
   },
   "outputs": [
    {
     "name": "stdout",
     "output_type": "stream",
     "text": [
      "time: 1.28 ms\n"
     ]
    }
   ],
   "source": [
    "# X_train[:, 0:53].shape, X_train[:, 54:58].shape"
   ]
  },
  {
   "cell_type": "code",
   "execution_count": 5,
   "metadata": {
    "collapsed": false
   },
   "outputs": [
    {
     "name": "stdout",
     "output_type": "stream",
     "text": [
      "time: 29.2 ms\n"
     ]
    }
   ],
   "source": [
    "# class index\n",
    "index_0 = np.where(y_train == 0)[0]\n",
    "index_1 = np.where(y_train == 1)[0]\n",
    "\n",
    "# lengths\n",
    "n = X_train.shape[0] \n",
    "n_0 = index_0.shape[0]\n",
    "n_1 = index_1.shape[0]\n",
    "\n",
    "# Calculate parameters for p(y), theta_Bern, and theta_Pareto\n",
    "#pi_y = np.mean(y_train, axis=0)\n",
    "\n",
    "pi_y_0 = index_0.shape[0]/n\n",
    "pi_y_1 = index_1.shape[0]/n\n",
    "\n",
    "\n",
    "theta_X_0_Bern = np.mean(X_train[index_0, 0:54], axis = 0)\n",
    "theta_X_1_Bern = np.mean(X_train[index_1, 0:54], axis = 0)\n",
    "\n",
    "\n",
    "theta_X_0_Pareto = n_0/np.log(X_train[index_0, 54:57]).sum(axis = 0)\n",
    "theta_X_1_Pareto = n_1/np.log(X_train[index_1, 54:57]).sum(axis = 0)\n",
    "\n",
    "\n",
    "# Concatenating parameters \n",
    "# theta_X_0 = np.concatenate((theta_X_0_Bern, theta_X_0_Pareto), axis=0)\n",
    "# theta_X_1 = np.concatenate((theta_X_1_Bern, theta_X_1_Pareto), axis=0)"
   ]
  },
  {
   "cell_type": "code",
   "execution_count": 6,
   "metadata": {
    "collapsed": false
   },
   "outputs": [
    {
     "name": "stdout",
     "output_type": "stream",
     "text": [
      "time: 51.4 ms\n"
     ]
    }
   ],
   "source": [
    "# Building Bayes classfier \n",
    "classifier = []\n",
    "\n",
    "for i in range(X_test.shape[0]):\n",
    "    Bern_0 = np.multiply(np.power(theta_X_0_Bern, X_test[i,0:54]), np.power(1-theta_X_0_Bern, 1-X_test[i,0:54])) \n",
    "    Bern_1 = np.multiply(np.power(theta_X_1_Bern, X_test[i,0:54]), np.power(1-theta_X_1_Bern, 1-X_test[i,0:54])) \n",
    "\n",
    "    Prato_0 = np.multiply(theta_X_0_Pareto, np.power(X_test[i, 54:57], -1-theta_X_0_Pareto))\n",
    "    Prato_1 = np.multiply(theta_X_1_Pareto, np.power(X_test[i, 54:57], -1-theta_X_1_Pareto))\n",
    "\n",
    "\n",
    "    full_row_0 = np.concatenate((Bern_0, Prato_0), axis = 0)\n",
    "    full_row_1 = np.concatenate((Bern_1, Prato_1), axis = 0) \n",
    "    \n",
    "#     \n",
    "#     \n",
    "    \n",
    "    p = [np.prod(full_row_0) * pi_y_0, np.prod(full_row_1) * pi_y_1]\n",
    "      \n",
    "    classifier.append(p)\n",
    "\n",
    "classifier_df = pd.DataFrame(classifier, columns=[0,1])\n",
    "\n",
    "\n",
    "# Find the column name which has the maximum value for each row\n",
    "y_predict = classifier_df.idxmax(axis=1).tolist()"
   ]
  },
  {
   "cell_type": "code",
   "execution_count": 7,
   "metadata": {
    "collapsed": false
   },
   "outputs": [
    {
     "name": "stdout",
     "output_type": "stream",
     "text": [
      "Predicted   0   1\n",
      "Actual           \n",
      "0.0        54   2\n",
      "1.0         5  32 \n",
      " \n",
      " Accuracy: 0.9247311827956989\n",
      "time: 24 ms\n"
     ]
    }
   ],
   "source": [
    "# Confusion Matrix\n",
    "(y_predict == y_test).sum()\n",
    "\n",
    "y_actu = pd.Series(y_test, name='Actual')\n",
    "y_predict = pd.Series(y_predict, name='Predicted')\n",
    "df_confusion = pd.crosstab(y_actu, y_predict)\n",
    "\n",
    "accu = (54 + 32)/ 93\n",
    "print(df_confusion, '\\n', '\\n',\"Accuracy:\",accu)"
   ]
  },
  {
   "cell_type": "markdown",
   "metadata": {},
   "source": [
    "## B"
   ]
  },
  {
   "cell_type": "code",
   "execution_count": 22,
   "metadata": {
    "collapsed": false
   },
   "outputs": [
    {
     "data": {
      "text/plain": [
       "<matplotlib.legend.Legend at 0x1142418d0>"
      ]
     },
     "execution_count": 22,
     "metadata": {},
     "output_type": "execute_result"
    },
    {
     "data": {
      "image/png": "[encoded data removed]",
      "text/plain": [
       "<matplotlib.figure.Figure at 0x1156a3630>"
      ]
     },
     "metadata": {},
     "output_type": "display_data"
    },
    {
     "name": "stdout",
     "output_type": "stream",
     "text": [
      "time: 931 ms\n"
     ]
    }
   ],
   "source": [
    "plt.figure(figsize=(12,8))\n",
    "\n",
    "markerline_0 = stem(theta_X_0_Bern)\n",
    "markerline_1 = stem(theta_X_1_Bern)\n",
    "\n",
    "setp(markerline_0, 'markerfacecolor', 'b')\n",
    "setp(markerline_1, 'markerfacecolor', 'r')\n",
    "\n",
    "plt.xlim([0, 55])\n",
    "\n",
    "# Chart title\n",
    "plt.title('Stem plot of Bernoulli parameters for each class')\n",
    "\n",
    "\n",
    "handles = [markerline_0,markerline_1]\n",
    "labels = ['Class 0', 'Class 1'] \n",
    "\n",
    "plt.legend(handles=handles, labels=labels, loc=\"upper left\", bbox_to_anchor=(1,1))  "
   ]
  },
  {
   "cell_type": "markdown",
   "metadata": {},
   "source": [
    "## C"
   ]
  },
  {
   "cell_type": "code",
   "execution_count": 11,
   "metadata": {
    "collapsed": false
   },
   "outputs": [
    {
     "ename": "TypeError",
     "evalue": "len() of unsized object",
     "output_type": "error",
     "traceback": [
      "\u001b[0;31m---------------------------------------------------------------------------\u001b[0m",
      "\u001b[0;31mIndexError\u001b[0m                                Traceback (most recent call last)",
      "\u001b[0;32m/Users/Amiros/anaconda/lib/python3.5/site-packages/matplotlib/axes/_axes.py\u001b[0m in \u001b[0;36mstem\u001b[0;34m(self, *args, **kwargs)\u001b[0m\n\u001b[1;32m   2393\u001b[0m         \u001b[0;32mtry\u001b[0m\u001b[0;34m:\u001b[0m\u001b[0;34m\u001b[0m\u001b[0m\n\u001b[0;32m-> 2394\u001b[0;31m             \u001b[0msecond\u001b[0m \u001b[0;34m=\u001b[0m \u001b[0mnp\u001b[0m\u001b[0;34m.\u001b[0m\u001b[0masarray\u001b[0m\u001b[0;34m(\u001b[0m\u001b[0margs\u001b[0m\u001b[0;34m[\u001b[0m\u001b[0;36m0\u001b[0m\u001b[0;34m]\u001b[0m\u001b[0;34m,\u001b[0m \u001b[0mdtype\u001b[0m\u001b[0;34m=\u001b[0m\u001b[0mnp\u001b[0m\u001b[0;34m.\u001b[0m\u001b[0mfloat\u001b[0m\u001b[0;34m)\u001b[0m\u001b[0;34m\u001b[0m\u001b[0m\n\u001b[0m\u001b[1;32m   2395\u001b[0m             \u001b[0mx\u001b[0m\u001b[0;34m,\u001b[0m \u001b[0my\u001b[0m \u001b[0;34m=\u001b[0m \u001b[0my\u001b[0m\u001b[0;34m,\u001b[0m \u001b[0msecond\u001b[0m\u001b[0;34m\u001b[0m\u001b[0m\n",
      "\u001b[0;31mIndexError\u001b[0m: tuple index out of range",
      "\nDuring handling of the above exception, another exception occurred:\n",
      "\u001b[0;31mTypeError\u001b[0m                                 Traceback (most recent call last)",
      "\u001b[0;32m<ipython-input-11-cd98b221ec20>\u001b[0m in \u001b[0;36m<module>\u001b[0;34m()\u001b[0m\n\u001b[1;32m      2\u001b[0m \u001b[0;34m\u001b[0m\u001b[0m\n\u001b[1;32m      3\u001b[0m \u001b[0mx\u001b[0m \u001b[0;34m=\u001b[0m \u001b[0mlinspace\u001b[0m\u001b[0;34m(\u001b[0m\u001b[0;36m0.1\u001b[0m\u001b[0;34m,\u001b[0m \u001b[0;36m2\u001b[0m\u001b[0;34m*\u001b[0m\u001b[0mpi\u001b[0m\u001b[0;34m,\u001b[0m \u001b[0;36m10\u001b[0m\u001b[0;34m)\u001b[0m\u001b[0;34m\u001b[0m\u001b[0m\n\u001b[0;32m----> 4\u001b[0;31m \u001b[0mbaseline\u001b[0m \u001b[0;34m=\u001b[0m \u001b[0mstem\u001b[0m\u001b[0;34m(\u001b[0m\u001b[0;34m'-.'\u001b[0m\u001b[0;34m)\u001b[0m\u001b[0;34m\u001b[0m\u001b[0m\n\u001b[0m\u001b[1;32m      5\u001b[0m \u001b[0msetp\u001b[0m\u001b[0;34m(\u001b[0m\u001b[0mmarkerline\u001b[0m\u001b[0;34m,\u001b[0m \u001b[0;34m'markerfacecolor'\u001b[0m\u001b[0;34m,\u001b[0m \u001b[0;34m'b'\u001b[0m\u001b[0;34m)\u001b[0m\u001b[0;34m\u001b[0m\u001b[0m\n\u001b[1;32m      6\u001b[0m \u001b[0msetp\u001b[0m\u001b[0;34m(\u001b[0m\u001b[0mbaseline\u001b[0m\u001b[0;34m,\u001b[0m \u001b[0;34m'color'\u001b[0m\u001b[0;34m,\u001b[0m\u001b[0;34m'r'\u001b[0m\u001b[0;34m,\u001b[0m \u001b[0;34m'linewidth'\u001b[0m\u001b[0;34m,\u001b[0m \u001b[0;36m2\u001b[0m\u001b[0;34m)\u001b[0m\u001b[0;34m\u001b[0m\u001b[0m\n",
      "\u001b[0;32m/Users/Amiros/anaconda/lib/python3.5/site-packages/matplotlib/pyplot.py\u001b[0m in \u001b[0;36mstem\u001b[0;34m(*args, **kwargs)\u001b[0m\n\u001b[1;32m   3341\u001b[0m         \u001b[0max\u001b[0m\u001b[0;34m.\u001b[0m\u001b[0mhold\u001b[0m\u001b[0;34m(\u001b[0m\u001b[0mhold\u001b[0m\u001b[0;34m)\u001b[0m\u001b[0;34m\u001b[0m\u001b[0m\n\u001b[1;32m   3342\u001b[0m     \u001b[0;32mtry\u001b[0m\u001b[0;34m:\u001b[0m\u001b[0;34m\u001b[0m\u001b[0m\n\u001b[0;32m-> 3343\u001b[0;31m         \u001b[0mret\u001b[0m \u001b[0;34m=\u001b[0m \u001b[0max\u001b[0m\u001b[0;34m.\u001b[0m\u001b[0mstem\u001b[0m\u001b[0;34m(\u001b[0m\u001b[0;34m*\u001b[0m\u001b[0margs\u001b[0m\u001b[0;34m,\u001b[0m \u001b[0;34m**\u001b[0m\u001b[0mkwargs\u001b[0m\u001b[0;34m)\u001b[0m\u001b[0;34m\u001b[0m\u001b[0m\n\u001b[0m\u001b[1;32m   3344\u001b[0m     \u001b[0;32mfinally\u001b[0m\u001b[0;34m:\u001b[0m\u001b[0;34m\u001b[0m\u001b[0m\n\u001b[1;32m   3345\u001b[0m         \u001b[0max\u001b[0m\u001b[0;34m.\u001b[0m\u001b[0mhold\u001b[0m\u001b[0;34m(\u001b[0m\u001b[0mwashold\u001b[0m\u001b[0;34m)\u001b[0m\u001b[0;34m\u001b[0m\u001b[0m\n",
      "\u001b[0;32m/Users/Amiros/anaconda/lib/python3.5/site-packages/matplotlib/__init__.py\u001b[0m in \u001b[0;36minner\u001b[0;34m(ax, *args, **kwargs)\u001b[0m\n\u001b[1;32m   1810\u001b[0m                     warnings.warn(msg % (label_namer, func.__name__),\n\u001b[1;32m   1811\u001b[0m                                   RuntimeWarning, stacklevel=2)\n\u001b[0;32m-> 1812\u001b[0;31m             \u001b[0;32mreturn\u001b[0m \u001b[0mfunc\u001b[0m\u001b[0;34m(\u001b[0m\u001b[0max\u001b[0m\u001b[0;34m,\u001b[0m \u001b[0;34m*\u001b[0m\u001b[0margs\u001b[0m\u001b[0;34m,\u001b[0m \u001b[0;34m**\u001b[0m\u001b[0mkwargs\u001b[0m\u001b[0;34m)\u001b[0m\u001b[0;34m\u001b[0m\u001b[0m\n\u001b[0m\u001b[1;32m   1813\u001b[0m         \u001b[0mpre_doc\u001b[0m \u001b[0;34m=\u001b[0m \u001b[0minner\u001b[0m\u001b[0;34m.\u001b[0m\u001b[0m__doc__\u001b[0m\u001b[0;34m\u001b[0m\u001b[0m\n\u001b[1;32m   1814\u001b[0m         \u001b[0;32mif\u001b[0m \u001b[0mpre_doc\u001b[0m \u001b[0;32mis\u001b[0m \u001b[0;32mNone\u001b[0m\u001b[0;34m:\u001b[0m\u001b[0;34m\u001b[0m\u001b[0m\n",
      "\u001b[0;32m/Users/Amiros/anaconda/lib/python3.5/site-packages/matplotlib/axes/_axes.py\u001b[0m in \u001b[0;36mstem\u001b[0;34m(self, *args, **kwargs)\u001b[0m\n\u001b[1;32m   2397\u001b[0m         \u001b[0;32mexcept\u001b[0m \u001b[0;34m(\u001b[0m\u001b[0mIndexError\u001b[0m\u001b[0;34m,\u001b[0m \u001b[0mValueError\u001b[0m\u001b[0;34m)\u001b[0m\u001b[0;34m:\u001b[0m\u001b[0;34m\u001b[0m\u001b[0m\n\u001b[1;32m   2398\u001b[0m             \u001b[0;31m# The second array doesn't make sense, or it doesn't exist\u001b[0m\u001b[0;34m\u001b[0m\u001b[0;34m\u001b[0m\u001b[0m\n\u001b[0;32m-> 2399\u001b[0;31m             \u001b[0msecond\u001b[0m \u001b[0;34m=\u001b[0m \u001b[0mnp\u001b[0m\u001b[0;34m.\u001b[0m\u001b[0marange\u001b[0m\u001b[0;34m(\u001b[0m\u001b[0mlen\u001b[0m\u001b[0;34m(\u001b[0m\u001b[0my\u001b[0m\u001b[0;34m)\u001b[0m\u001b[0;34m)\u001b[0m\u001b[0;34m\u001b[0m\u001b[0m\n\u001b[0m\u001b[1;32m   2400\u001b[0m             \u001b[0mx\u001b[0m \u001b[0;34m=\u001b[0m \u001b[0msecond\u001b[0m\u001b[0;34m\u001b[0m\u001b[0m\n\u001b[1;32m   2401\u001b[0m \u001b[0;34m\u001b[0m\u001b[0m\n",
      "\u001b[0;31mTypeError\u001b[0m: len() of unsized object"
     ]
    },
    {
     "data": {
      "image/png": "[encoded data removed]",
      "text/plain": [
       "<matplotlib.figure.Figure at 0x10fa942b0>"
      ]
     },
     "metadata": {},
     "output_type": "display_data"
    },
    {
     "name": "stdout",
     "output_type": "stream",
     "text": [
      "time: 297 ms\n"
     ]
    }
   ],
   "source": [
    "from pylab import *\n",
    "\n",
    "x = linspace(0.1, 2*pi, 10)\n",
    "markerline, stemlines, baseline = stem(x, cos(x), '-.')\n",
    "setp(markerline, 'markerfacecolor', 'b')\n",
    "setp(baseline, 'color','r', 'linewidth', 2)"
   ]
  },
  {
   "cell_type": "code",
   "execution_count": null,
   "metadata": {
    "collapsed": true
   },
   "outputs": [],
   "source": []
  }
 ],
 "metadata": {
  "kernelspec": {
   "display_name": "Python 3",
   "language": "python",
   "name": "python3"
  },
  "language_info": {
   "codemirror_mode": {
    "name": "ipython",
    "version": 3
   },
   "file_extension": ".py",
   "mimetype": "text/x-python",
   "name": "python",
   "nbconvert_exporter": "python",
   "pygments_lexer": "ipython3",
   "version": "3.5.2"
  }
 },
 "nbformat": 4,
 "nbformat_minor": 0
}
